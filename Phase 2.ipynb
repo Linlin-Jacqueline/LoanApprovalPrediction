{
 "cells": [
  {
   "cell_type": "markdown",
   "id": "d61a9922",
   "metadata": {},
   "source": [
    "# Phase 2\n",
    "## Step 1: Data Imports and Data Cleaning"
   ]
  },
  {
   "cell_type": "code",
   "execution_count": 1,
   "id": "b148571e",
   "metadata": {},
   "outputs": [
    {
     "name": "stderr",
     "output_type": "stream",
     "text": [
      "/var/folders/mt/9k8cb4n52qn_snqgr897y1fm0000gn/T/ipykernel_40825/1240539294.py:10: DtypeWarning: Columns (23,24,25) have mixed types. Specify dtype option on import or set low_memory=False.\n",
      "  df = pd.read_csv('data.csv', dtype = {'applicant_race_name_3': 'string',\n"
     ]
    }
   ],
   "source": [
    "# importing packages\n",
    "import numpy as np\n",
    "import pandas as pd\n",
    "\n",
    "# data found: https://www.consumerfinance.gov/data-research/hmda/historic-data/?geo=nationwide&records=all-records&field_descriptions=codes (year 2017)\n",
    "# also in google drive: https://drive.google.com/drive/folders/1oNUOrG1_ZI_am0-SgtbVz1BozbwqORFk?usp=drive_link?\n",
    "# corresponding code information: https://files.consumerfinance.gov/hmda-historic-data-dictionaries/lar_record_codes.pdf\n",
    "# github link for our repository: https://github.com/AtulyaL/INFO4390_Project\n",
    "\n",
    "# reading file\n",
    "df = pd.read_csv('data.csv', dtype = {'applicant_race_name_3': 'string', \n",
    "'applicant_race_name_4': 'string', \n",
    "'applicant_race_name_5': 'string', \n",
    "'co_applicant_race_name_3': 'string', \n",
    "'co_applicant_race_name_4': 'string', \n",
    "'co_applicant_race_name_5': 'string'})"
   ]
  },
  {
   "cell_type": "markdown",
   "id": "f2e03c2e",
   "metadata": {},
   "source": [
    "We changed our dataset from just the Washington state records to a dataset that has nationwide information [1-2]. We thought it would be better to have a bigger dataset with more datapoints so we could have more confidence in our results and make generalize our results to the entire United States. The source of the data is the government, which is same as before."
   ]
  },
  {
   "cell_type": "code",
   "execution_count": 3,
   "id": "b3dd50c7",
   "metadata": {},
   "outputs": [
    {
     "data": {
      "text/html": [
       "<div>\n",
       "<style scoped>\n",
       "    .dataframe tbody tr th:only-of-type {\n",
       "        vertical-align: middle;\n",
       "    }\n",
       "\n",
       "    .dataframe tbody tr th {\n",
       "        vertical-align: top;\n",
       "    }\n",
       "\n",
       "    .dataframe thead th {\n",
       "        text-align: right;\n",
       "    }\n",
       "</style>\n",
       "<table border=\"1\" class=\"dataframe\">\n",
       "  <thead>\n",
       "    <tr style=\"text-align: right;\">\n",
       "      <th></th>\n",
       "      <th>as_of_year</th>\n",
       "      <th>respondent_id</th>\n",
       "      <th>agency_code</th>\n",
       "      <th>loan_type</th>\n",
       "      <th>property_type</th>\n",
       "      <th>loan_purpose</th>\n",
       "      <th>owner_occupancy</th>\n",
       "      <th>loan_amount_000s</th>\n",
       "      <th>preapproval</th>\n",
       "      <th>action_taken</th>\n",
       "      <th>...</th>\n",
       "      <th>lien_status</th>\n",
       "      <th>edit_status</th>\n",
       "      <th>sequence_number</th>\n",
       "      <th>population</th>\n",
       "      <th>minority_population</th>\n",
       "      <th>hud_median_family_income</th>\n",
       "      <th>tract_to_msamd_income</th>\n",
       "      <th>number_of_owner_occupied_units</th>\n",
       "      <th>number_of_1_to_4_family_units</th>\n",
       "      <th>application_date_indicator</th>\n",
       "    </tr>\n",
       "  </thead>\n",
       "  <tbody>\n",
       "    <tr>\n",
       "      <th>0</th>\n",
       "      <td>2017</td>\n",
       "      <td>0000342634</td>\n",
       "      <td>9</td>\n",
       "      <td>1</td>\n",
       "      <td>1</td>\n",
       "      <td>3</td>\n",
       "      <td>1</td>\n",
       "      <td>9.0</td>\n",
       "      <td>3</td>\n",
       "      <td>3</td>\n",
       "      <td>...</td>\n",
       "      <td>2</td>\n",
       "      <td>NaN</td>\n",
       "      <td>NaN</td>\n",
       "      <td>1948.0</td>\n",
       "      <td>12.58</td>\n",
       "      <td>59700.0</td>\n",
       "      <td>122.93</td>\n",
       "      <td>507.0</td>\n",
       "      <td>724.0</td>\n",
       "      <td>NaN</td>\n",
       "    </tr>\n",
       "    <tr>\n",
       "      <th>1</th>\n",
       "      <td>2017</td>\n",
       "      <td>0004186591</td>\n",
       "      <td>9</td>\n",
       "      <td>3</td>\n",
       "      <td>1</td>\n",
       "      <td>1</td>\n",
       "      <td>1</td>\n",
       "      <td>94.0</td>\n",
       "      <td>3</td>\n",
       "      <td>6</td>\n",
       "      <td>...</td>\n",
       "      <td>4</td>\n",
       "      <td>NaN</td>\n",
       "      <td>NaN</td>\n",
       "      <td>1948.0</td>\n",
       "      <td>12.58</td>\n",
       "      <td>59700.0</td>\n",
       "      <td>122.93</td>\n",
       "      <td>507.0</td>\n",
       "      <td>724.0</td>\n",
       "      <td>NaN</td>\n",
       "    </tr>\n",
       "    <tr>\n",
       "      <th>2</th>\n",
       "      <td>2017</td>\n",
       "      <td>22-3039688</td>\n",
       "      <td>7</td>\n",
       "      <td>3</td>\n",
       "      <td>1</td>\n",
       "      <td>3</td>\n",
       "      <td>1</td>\n",
       "      <td>161.0</td>\n",
       "      <td>3</td>\n",
       "      <td>5</td>\n",
       "      <td>...</td>\n",
       "      <td>1</td>\n",
       "      <td>NaN</td>\n",
       "      <td>NaN</td>\n",
       "      <td>1948.0</td>\n",
       "      <td>12.58</td>\n",
       "      <td>59700.0</td>\n",
       "      <td>122.93</td>\n",
       "      <td>507.0</td>\n",
       "      <td>724.0</td>\n",
       "      <td>NaN</td>\n",
       "    </tr>\n",
       "    <tr>\n",
       "      <th>3</th>\n",
       "      <td>2017</td>\n",
       "      <td>20-3878295</td>\n",
       "      <td>5</td>\n",
       "      <td>1</td>\n",
       "      <td>1</td>\n",
       "      <td>2</td>\n",
       "      <td>1</td>\n",
       "      <td>90.0</td>\n",
       "      <td>3</td>\n",
       "      <td>1</td>\n",
       "      <td>...</td>\n",
       "      <td>1</td>\n",
       "      <td>NaN</td>\n",
       "      <td>NaN</td>\n",
       "      <td>1948.0</td>\n",
       "      <td>12.58</td>\n",
       "      <td>59700.0</td>\n",
       "      <td>122.93</td>\n",
       "      <td>507.0</td>\n",
       "      <td>724.0</td>\n",
       "      <td>NaN</td>\n",
       "    </tr>\n",
       "    <tr>\n",
       "      <th>4</th>\n",
       "      <td>2017</td>\n",
       "      <td>0000342634</td>\n",
       "      <td>9</td>\n",
       "      <td>1</td>\n",
       "      <td>1</td>\n",
       "      <td>3</td>\n",
       "      <td>2</td>\n",
       "      <td>41.0</td>\n",
       "      <td>3</td>\n",
       "      <td>1</td>\n",
       "      <td>...</td>\n",
       "      <td>1</td>\n",
       "      <td>NaN</td>\n",
       "      <td>NaN</td>\n",
       "      <td>1948.0</td>\n",
       "      <td>12.58</td>\n",
       "      <td>59700.0</td>\n",
       "      <td>122.93</td>\n",
       "      <td>507.0</td>\n",
       "      <td>724.0</td>\n",
       "      <td>NaN</td>\n",
       "    </tr>\n",
       "  </tbody>\n",
       "</table>\n",
       "<p>5 rows × 45 columns</p>\n",
       "</div>"
      ],
      "text/plain": [
       "   as_of_year respondent_id  agency_code  loan_type  property_type  \\\n",
       "0        2017    0000342634            9          1              1   \n",
       "1        2017    0004186591            9          3              1   \n",
       "2        2017    22-3039688            7          3              1   \n",
       "3        2017    20-3878295            5          1              1   \n",
       "4        2017    0000342634            9          1              1   \n",
       "\n",
       "   loan_purpose  owner_occupancy  loan_amount_000s  preapproval  action_taken  \\\n",
       "0             3                1               9.0            3             3   \n",
       "1             1                1              94.0            3             6   \n",
       "2             3                1             161.0            3             5   \n",
       "3             2                1              90.0            3             1   \n",
       "4             3                2              41.0            3             1   \n",
       "\n",
       "   ...  lien_status  edit_status  sequence_number  population  \\\n",
       "0  ...            2          NaN              NaN      1948.0   \n",
       "1  ...            4          NaN              NaN      1948.0   \n",
       "2  ...            1          NaN              NaN      1948.0   \n",
       "3  ...            1          NaN              NaN      1948.0   \n",
       "4  ...            1          NaN              NaN      1948.0   \n",
       "\n",
       "   minority_population  hud_median_family_income  tract_to_msamd_income  \\\n",
       "0                12.58                   59700.0                 122.93   \n",
       "1                12.58                   59700.0                 122.93   \n",
       "2                12.58                   59700.0                 122.93   \n",
       "3                12.58                   59700.0                 122.93   \n",
       "4                12.58                   59700.0                 122.93   \n",
       "\n",
       "   number_of_owner_occupied_units  number_of_1_to_4_family_units  \\\n",
       "0                           507.0                          724.0   \n",
       "1                           507.0                          724.0   \n",
       "2                           507.0                          724.0   \n",
       "3                           507.0                          724.0   \n",
       "4                           507.0                          724.0   \n",
       "\n",
       "   application_date_indicator  \n",
       "0                         NaN  \n",
       "1                         NaN  \n",
       "2                         NaN  \n",
       "3                         NaN  \n",
       "4                         NaN  \n",
       "\n",
       "[5 rows x 45 columns]"
      ]
     },
     "execution_count": 3,
     "metadata": {},
     "output_type": "execute_result"
    }
   ],
   "source": [
    "df.head()"
   ]
  },
  {
   "cell_type": "code",
   "execution_count": 4,
   "id": "eaff764b",
   "metadata": {},
   "outputs": [],
   "source": [
    "# drop unnecessary columns based on scan of columns and documentation from website\n",
    "df = df.drop(df.keys()[df.keys().str[-4:] == 'name'], axis = 1)"
   ]
  },
  {
   "cell_type": "code",
   "execution_count": 5,
   "id": "3a296940",
   "metadata": {
    "scrolled": true
   },
   "outputs": [
    {
     "data": {
      "text/plain": [
       "application_date_indicator    100.000000\n",
       "sequence_number               100.000000\n",
       "edit_status                   100.000000\n",
       "co_applicant_race_5            99.997557\n",
       "co_applicant_race_4            99.995352\n",
       "applicant_race_5               99.992412\n",
       "applicant_race_4               99.988492\n",
       "co_applicant_race_3            99.984992\n",
       "applicant_race_3               99.951069\n",
       "co_applicant_race_2            99.787099\n",
       "denial_reason_3                99.654629\n",
       "applicant_race_2               99.367316\n",
       "denial_reason_2                97.863903\n",
       "rate_spread                    96.547036\n",
       "denial_reason_1                90.116059\n",
       "dtype: float64"
      ]
     },
     "execution_count": 5,
     "metadata": {},
     "output_type": "execute_result"
    }
   ],
   "source": [
    "# calculating percent missing to see what columns to drop for insufficient info (greater than 30%)\n",
    "percent_missing = (df.isnull().sum() * 100 / len(df))\n",
    "percent_missing = percent_missing.sort_values(ascending = False)\n",
    "percent_missing[percent_missing > 30]"
   ]
  },
  {
   "cell_type": "code",
   "execution_count": 6,
   "id": "e9d33f5f",
   "metadata": {},
   "outputs": [],
   "source": [
    "# dropping these columns\n",
    "df = df.drop(percent_missing[percent_missing > 30].index, axis = 1)"
   ]
  },
  {
   "cell_type": "code",
   "execution_count": 7,
   "id": "d808cbce",
   "metadata": {},
   "outputs": [],
   "source": [
    "# dropping rows that have na values\n",
    "df = df.dropna()"
   ]
  },
  {
   "cell_type": "code",
   "execution_count": 8,
   "id": "ac289aa2",
   "metadata": {},
   "outputs": [],
   "source": [
    "# because all years are 2017, drop first column\n",
    "df = df.drop('as_of_year', axis = 1)"
   ]
  },
  {
   "cell_type": "code",
   "execution_count": 9,
   "id": "e4528398",
   "metadata": {},
   "outputs": [],
   "source": [
    "# because we are filtering comparing men to women, we drop all columns where sex != 1 or 2\n",
    "df = df[(df['applicant_sex'] == 1) | (df['applicant_sex'] == 2)]"
   ]
  },
  {
   "cell_type": "code",
   "execution_count": 53,
   "id": "c87b0633",
   "metadata": {},
   "outputs": [],
   "source": [
    "# save cleaned dataset\n",
    "df.to_csv('cleaned_data.csv', index=False)"
   ]
  },
  {
   "cell_type": "code",
   "execution_count": 11,
   "id": "20092beb",
   "metadata": {},
   "outputs": [
    {
     "data": {
      "text/html": [
       "<div>\n",
       "<style scoped>\n",
       "    .dataframe tbody tr th:only-of-type {\n",
       "        vertical-align: middle;\n",
       "    }\n",
       "\n",
       "    .dataframe tbody tr th {\n",
       "        vertical-align: top;\n",
       "    }\n",
       "\n",
       "    .dataframe thead th {\n",
       "        text-align: right;\n",
       "    }\n",
       "</style>\n",
       "<table border=\"1\" class=\"dataframe\">\n",
       "  <thead>\n",
       "    <tr style=\"text-align: right;\">\n",
       "      <th></th>\n",
       "      <th>respondent_id</th>\n",
       "      <th>agency_code</th>\n",
       "      <th>loan_type</th>\n",
       "      <th>property_type</th>\n",
       "      <th>loan_purpose</th>\n",
       "      <th>owner_occupancy</th>\n",
       "      <th>loan_amount_000s</th>\n",
       "      <th>preapproval</th>\n",
       "      <th>action_taken</th>\n",
       "      <th>msamd</th>\n",
       "      <th>...</th>\n",
       "      <th>applicant_income_000s</th>\n",
       "      <th>purchaser_type</th>\n",
       "      <th>hoepa_status</th>\n",
       "      <th>lien_status</th>\n",
       "      <th>population</th>\n",
       "      <th>minority_population</th>\n",
       "      <th>hud_median_family_income</th>\n",
       "      <th>tract_to_msamd_income</th>\n",
       "      <th>number_of_owner_occupied_units</th>\n",
       "      <th>number_of_1_to_4_family_units</th>\n",
       "    </tr>\n",
       "  </thead>\n",
       "  <tbody>\n",
       "    <tr>\n",
       "      <th>0</th>\n",
       "      <td>0000342634</td>\n",
       "      <td>9</td>\n",
       "      <td>1</td>\n",
       "      <td>1</td>\n",
       "      <td>3</td>\n",
       "      <td>1</td>\n",
       "      <td>9.0</td>\n",
       "      <td>3</td>\n",
       "      <td>3</td>\n",
       "      <td>33860.0</td>\n",
       "      <td>...</td>\n",
       "      <td>54.0</td>\n",
       "      <td>0</td>\n",
       "      <td>2</td>\n",
       "      <td>2</td>\n",
       "      <td>1948.0</td>\n",
       "      <td>12.58</td>\n",
       "      <td>59700.0</td>\n",
       "      <td>122.93</td>\n",
       "      <td>507.0</td>\n",
       "      <td>724.0</td>\n",
       "    </tr>\n",
       "    <tr>\n",
       "      <th>2</th>\n",
       "      <td>22-3039688</td>\n",
       "      <td>7</td>\n",
       "      <td>3</td>\n",
       "      <td>1</td>\n",
       "      <td>3</td>\n",
       "      <td>1</td>\n",
       "      <td>161.0</td>\n",
       "      <td>3</td>\n",
       "      <td>5</td>\n",
       "      <td>33860.0</td>\n",
       "      <td>...</td>\n",
       "      <td>64.0</td>\n",
       "      <td>0</td>\n",
       "      <td>2</td>\n",
       "      <td>1</td>\n",
       "      <td>1948.0</td>\n",
       "      <td>12.58</td>\n",
       "      <td>59700.0</td>\n",
       "      <td>122.93</td>\n",
       "      <td>507.0</td>\n",
       "      <td>724.0</td>\n",
       "    </tr>\n",
       "    <tr>\n",
       "      <th>3</th>\n",
       "      <td>20-3878295</td>\n",
       "      <td>5</td>\n",
       "      <td>1</td>\n",
       "      <td>1</td>\n",
       "      <td>2</td>\n",
       "      <td>1</td>\n",
       "      <td>90.0</td>\n",
       "      <td>3</td>\n",
       "      <td>1</td>\n",
       "      <td>33860.0</td>\n",
       "      <td>...</td>\n",
       "      <td>61.0</td>\n",
       "      <td>1</td>\n",
       "      <td>2</td>\n",
       "      <td>1</td>\n",
       "      <td>1948.0</td>\n",
       "      <td>12.58</td>\n",
       "      <td>59700.0</td>\n",
       "      <td>122.93</td>\n",
       "      <td>507.0</td>\n",
       "      <td>724.0</td>\n",
       "    </tr>\n",
       "    <tr>\n",
       "      <th>4</th>\n",
       "      <td>0000342634</td>\n",
       "      <td>9</td>\n",
       "      <td>1</td>\n",
       "      <td>1</td>\n",
       "      <td>3</td>\n",
       "      <td>2</td>\n",
       "      <td>41.0</td>\n",
       "      <td>3</td>\n",
       "      <td>1</td>\n",
       "      <td>33860.0</td>\n",
       "      <td>...</td>\n",
       "      <td>133.0</td>\n",
       "      <td>0</td>\n",
       "      <td>2</td>\n",
       "      <td>1</td>\n",
       "      <td>1948.0</td>\n",
       "      <td>12.58</td>\n",
       "      <td>59700.0</td>\n",
       "      <td>122.93</td>\n",
       "      <td>507.0</td>\n",
       "      <td>724.0</td>\n",
       "    </tr>\n",
       "    <tr>\n",
       "      <th>6</th>\n",
       "      <td>0000013303</td>\n",
       "      <td>3</td>\n",
       "      <td>2</td>\n",
       "      <td>1</td>\n",
       "      <td>1</td>\n",
       "      <td>1</td>\n",
       "      <td>76.0</td>\n",
       "      <td>3</td>\n",
       "      <td>1</td>\n",
       "      <td>33860.0</td>\n",
       "      <td>...</td>\n",
       "      <td>87.0</td>\n",
       "      <td>6</td>\n",
       "      <td>2</td>\n",
       "      <td>1</td>\n",
       "      <td>1948.0</td>\n",
       "      <td>12.58</td>\n",
       "      <td>59700.0</td>\n",
       "      <td>122.93</td>\n",
       "      <td>507.0</td>\n",
       "      <td>724.0</td>\n",
       "    </tr>\n",
       "  </tbody>\n",
       "</table>\n",
       "<p>5 rows × 29 columns</p>\n",
       "</div>"
      ],
      "text/plain": [
       "  respondent_id  agency_code  loan_type  property_type  loan_purpose  \\\n",
       "0    0000342634            9          1              1             3   \n",
       "2    22-3039688            7          3              1             3   \n",
       "3    20-3878295            5          1              1             2   \n",
       "4    0000342634            9          1              1             3   \n",
       "6    0000013303            3          2              1             1   \n",
       "\n",
       "   owner_occupancy  loan_amount_000s  preapproval  action_taken    msamd  ...  \\\n",
       "0                1               9.0            3             3  33860.0  ...   \n",
       "2                1             161.0            3             5  33860.0  ...   \n",
       "3                1              90.0            3             1  33860.0  ...   \n",
       "4                2              41.0            3             1  33860.0  ...   \n",
       "6                1              76.0            3             1  33860.0  ...   \n",
       "\n",
       "   applicant_income_000s  purchaser_type  hoepa_status  lien_status  \\\n",
       "0                   54.0               0             2            2   \n",
       "2                   64.0               0             2            1   \n",
       "3                   61.0               1             2            1   \n",
       "4                  133.0               0             2            1   \n",
       "6                   87.0               6             2            1   \n",
       "\n",
       "   population  minority_population  hud_median_family_income  \\\n",
       "0      1948.0                12.58                   59700.0   \n",
       "2      1948.0                12.58                   59700.0   \n",
       "3      1948.0                12.58                   59700.0   \n",
       "4      1948.0                12.58                   59700.0   \n",
       "6      1948.0                12.58                   59700.0   \n",
       "\n",
       "   tract_to_msamd_income  number_of_owner_occupied_units  \\\n",
       "0                 122.93                           507.0   \n",
       "2                 122.93                           507.0   \n",
       "3                 122.93                           507.0   \n",
       "4                 122.93                           507.0   \n",
       "6                 122.93                           507.0   \n",
       "\n",
       "   number_of_1_to_4_family_units  \n",
       "0                          724.0  \n",
       "2                          724.0  \n",
       "3                          724.0  \n",
       "4                          724.0  \n",
       "6                          724.0  \n",
       "\n",
       "[5 rows x 29 columns]"
      ]
     },
     "execution_count": 11,
     "metadata": {},
     "output_type": "execute_result"
    }
   ],
   "source": [
    "df.head()"
   ]
  },
  {
   "cell_type": "markdown",
   "id": "f4b7370e-7d32-4c16-9cd5-feb838958eb6",
   "metadata": {},
   "source": [
    "## Step 2: Summary Statistics"
   ]
  },
  {
   "cell_type": "code",
   "execution_count": 2,
   "id": "cdffae10",
   "metadata": {},
   "outputs": [],
   "source": [
    "import numpy as np\n",
    "import pandas as pd\n",
    "\n",
    "df_cleaned = pd.read_csv(\"cleaned_data.csv\")"
   ]
  },
  {
   "cell_type": "code",
   "execution_count": 13,
   "id": "81ca2baa-eda2-4f37-88b0-6f3ecff9c5c5",
   "metadata": {},
   "outputs": [
    {
     "name": "stdout",
     "output_type": "stream",
     "text": [
      "Number of overall rows in the cleaned dataset:\n"
     ]
    },
    {
     "data": {
      "text/plain": [
       "9793702"
      ]
     },
     "execution_count": 13,
     "metadata": {},
     "output_type": "execute_result"
    }
   ],
   "source": [
    "# number of overall rows in the cleaned dataset\n",
    "\n",
    "print(\"Number of overall rows in the cleaned dataset:\")\n",
    "df_cleaned.shape[0]"
   ]
  },
  {
   "cell_type": "code",
   "execution_count": 14,
   "id": "b13a49de-f8da-4586-a0ea-d927af62594f",
   "metadata": {},
   "outputs": [
    {
     "name": "stdout",
     "output_type": "stream",
     "text": [
      "Number of overall columns in the cleaned dataset:\n"
     ]
    },
    {
     "data": {
      "text/plain": [
       "30"
      ]
     },
     "execution_count": 14,
     "metadata": {},
     "output_type": "execute_result"
    }
   ],
   "source": [
    "# number of overall cols in the cleaned dataset\n",
    "\n",
    "print(\"Number of overall columns in the cleaned dataset:\")\n",
    "df_cleaned.shape[1]"
   ]
  },
  {
   "cell_type": "code",
   "execution_count": 15,
   "id": "e931b872-4604-46c1-837e-7ab9a3c844c4",
   "metadata": {},
   "outputs": [
    {
     "name": "stdout",
     "output_type": "stream",
     "text": [
      "Number of overall rows of Non-black people in the cleaned dataset:\n",
      "8971510\n",
      "Number of overall columns of Non-black people in the cleaned dataset:\n",
      "30\n",
      "Number of overall rows of Black or African American people in the cleaned dataset:\n",
      "822192\n",
      "Number of overall columns of Black or African American people in the cleaned dataset:\n",
      "30\n"
     ]
    }
   ],
   "source": [
    "# sensitive attribute 1: Race\n",
    "\n",
    "# Race: Non-black\n",
    "df_cleaned_non_black = df_cleaned.loc[df_cleaned['applicant_race_1'] != 3]\n",
    "\n",
    "print(\"Number of overall rows of Non-black people in the cleaned dataset:\")\n",
    "print(df_cleaned_non_black.shape[0])\n",
    "print(\"Number of overall columns of Non-black people in the cleaned dataset:\")\n",
    "print(df_cleaned_non_black.shape[1])\n",
    "\n",
    "# Race: Black\n",
    "df_cleaned_black = df_cleaned.loc[df_cleaned['applicant_race_1'] == 3]\n",
    "\n",
    "print(\"Number of overall rows of Black or African American people in the cleaned dataset:\")\n",
    "print(df_cleaned_black.shape[0])\n",
    "print(\"Number of overall columns of Black or African American people in the cleaned dataset:\")\n",
    "print(df_cleaned_black.shape[1])"
   ]
  },
  {
   "cell_type": "code",
   "execution_count": 16,
   "id": "a1ba540f-bad3-4ec2-91b4-8b9f84911d14",
   "metadata": {},
   "outputs": [
    {
     "name": "stdout",
     "output_type": "stream",
     "text": [
      "Number of overall rows of Male in the cleaned dataset:\n",
      "6644522\n",
      "Number of overall columns of Male in the cleaned dataset:\n",
      "30\n",
      "Number of overall rows of Female in the cleaned dataset:\n",
      "3149180\n",
      "Number of overall columns of Female in the cleaned dataset:\n",
      "30\n"
     ]
    }
   ],
   "source": [
    "# sensitive attribute 2: Gender\n",
    "\n",
    "# Gender: Male\n",
    "df_cleaned_male= df_cleaned.loc[df_cleaned['applicant_sex'] == 1]\n",
    "\n",
    "print(\"Number of overall rows of Male in the cleaned dataset:\")\n",
    "print(df_cleaned_male.shape[0])\n",
    "print(\"Number of overall columns of Male in the cleaned dataset:\")\n",
    "print(df_cleaned_male.shape[1])\n",
    "\n",
    "# Gender: Female\n",
    "df_cleaned_female = df_cleaned.loc[df_cleaned['applicant_sex'] == 2]\n",
    "\n",
    "print(\"Number of overall rows of Female in the cleaned dataset:\")\n",
    "print(df_cleaned_female.shape[0])\n",
    "print(\"Number of overall columns of Female in the cleaned dataset:\")\n",
    "print(df_cleaned_female.shape[1])"
   ]
  },
  {
   "cell_type": "code",
   "execution_count": 34,
   "id": "aea497d1",
   "metadata": {},
   "outputs": [],
   "source": [
    "import matplotlib.pyplot as plt\n"
   ]
  },
  {
   "cell_type": "code",
   "execution_count": 55,
   "id": "ccfbcbad",
   "metadata": {},
   "outputs": [
    {
     "data": {
      "image/png": "[encoded data removed]",
      "text/plain": [
       "<Figure size 432x288 with 1 Axes>"
      ]
     },
     "metadata": {
      "needs_background": "light"
     },
     "output_type": "display_data"
    }
   ],
   "source": [
    "plt.title('Applicant Sex Distirbution')\n",
    "plt.xlabel('Sex')\n",
    "plt.ylabel('Applicant Sex Count')\n",
    "plt.hist(df_cleaned[(df_cleaned['applicant_sex'] == 1) | (df_cleaned['applicant_sex'] == 2)]['applicant_sex'], color = 'blue', bins = 5)\n",
    "plt.xticks([1.1,1.9], ['Male','Female'])\n",
    "plt.show()"
   ]
  },
  {
   "cell_type": "code",
   "execution_count": 17,
   "id": "9b032de8-274b-4715-a792-5fa8ce72f79d",
   "metadata": {},
   "outputs": [
    {
     "name": "stdout",
     "output_type": "stream",
     "text": [
      "The mean / median / standard deviation values of variables of interests of overall group:\n"
     ]
    },
    {
     "data": {
      "text/html": [
       "<div>\n",
       "<style scoped>\n",
       "    .dataframe tbody tr th:only-of-type {\n",
       "        vertical-align: middle;\n",
       "    }\n",
       "\n",
       "    .dataframe tbody tr th {\n",
       "        vertical-align: top;\n",
       "    }\n",
       "\n",
       "    .dataframe thead th {\n",
       "        text-align: right;\n",
       "    }\n",
       "</style>\n",
       "<table border=\"1\" class=\"dataframe\">\n",
       "  <thead>\n",
       "    <tr style=\"text-align: right;\">\n",
       "      <th></th>\n",
       "      <th>action_taken</th>\n",
       "    </tr>\n",
       "  </thead>\n",
       "  <tbody>\n",
       "    <tr>\n",
       "      <th>count</th>\n",
       "      <td>9.793702e+06</td>\n",
       "    </tr>\n",
       "    <tr>\n",
       "      <th>mean</th>\n",
       "      <td>2.205999e+00</td>\n",
       "    </tr>\n",
       "    <tr>\n",
       "      <th>std</th>\n",
       "      <td>1.623058e+00</td>\n",
       "    </tr>\n",
       "    <tr>\n",
       "      <th>min</th>\n",
       "      <td>1.000000e+00</td>\n",
       "    </tr>\n",
       "    <tr>\n",
       "      <th>25%</th>\n",
       "      <td>1.000000e+00</td>\n",
       "    </tr>\n",
       "    <tr>\n",
       "      <th>50%</th>\n",
       "      <td>1.000000e+00</td>\n",
       "    </tr>\n",
       "    <tr>\n",
       "      <th>75%</th>\n",
       "      <td>3.000000e+00</td>\n",
       "    </tr>\n",
       "    <tr>\n",
       "      <th>max</th>\n",
       "      <td>8.000000e+00</td>\n",
       "    </tr>\n",
       "  </tbody>\n",
       "</table>\n",
       "</div>"
      ],
      "text/plain": [
       "       action_taken\n",
       "count  9.793702e+06\n",
       "mean   2.205999e+00\n",
       "std    1.623058e+00\n",
       "min    1.000000e+00\n",
       "25%    1.000000e+00\n",
       "50%    1.000000e+00\n",
       "75%    3.000000e+00\n",
       "max    8.000000e+00"
      ]
     },
     "execution_count": 17,
     "metadata": {},
     "output_type": "execute_result"
    }
   ],
   "source": [
    "# Outcome variables of Main Interests\n",
    "print('The mean / median / standard deviation values of variables of interests of overall group:')\n",
    "df_cleaned[['action_taken']].describe()"
   ]
  },
  {
   "cell_type": "code",
   "execution_count": 18,
   "id": "a490fcea-0bf3-43a5-8849-a791545f15c5",
   "metadata": {},
   "outputs": [
    {
     "name": "stdout",
     "output_type": "stream",
     "text": [
      "The mean / median / standard deviation values of variables of interests of Non-black people:\n"
     ]
    },
    {
     "data": {
      "text/html": [
       "<div>\n",
       "<style scoped>\n",
       "    .dataframe tbody tr th:only-of-type {\n",
       "        vertical-align: middle;\n",
       "    }\n",
       "\n",
       "    .dataframe tbody tr th {\n",
       "        vertical-align: top;\n",
       "    }\n",
       "\n",
       "    .dataframe thead th {\n",
       "        text-align: right;\n",
       "    }\n",
       "</style>\n",
       "<table border=\"1\" class=\"dataframe\">\n",
       "  <thead>\n",
       "    <tr style=\"text-align: right;\">\n",
       "      <th></th>\n",
       "      <th>action_taken</th>\n",
       "    </tr>\n",
       "  </thead>\n",
       "  <tbody>\n",
       "    <tr>\n",
       "      <th>count</th>\n",
       "      <td>8.971510e+06</td>\n",
       "    </tr>\n",
       "    <tr>\n",
       "      <th>mean</th>\n",
       "      <td>2.189708e+00</td>\n",
       "    </tr>\n",
       "    <tr>\n",
       "      <th>std</th>\n",
       "      <td>1.631109e+00</td>\n",
       "    </tr>\n",
       "    <tr>\n",
       "      <th>min</th>\n",
       "      <td>1.000000e+00</td>\n",
       "    </tr>\n",
       "    <tr>\n",
       "      <th>25%</th>\n",
       "      <td>1.000000e+00</td>\n",
       "    </tr>\n",
       "    <tr>\n",
       "      <th>50%</th>\n",
       "      <td>1.000000e+00</td>\n",
       "    </tr>\n",
       "    <tr>\n",
       "      <th>75%</th>\n",
       "      <td>3.000000e+00</td>\n",
       "    </tr>\n",
       "    <tr>\n",
       "      <th>max</th>\n",
       "      <td>8.000000e+00</td>\n",
       "    </tr>\n",
       "  </tbody>\n",
       "</table>\n",
       "</div>"
      ],
      "text/plain": [
       "       action_taken\n",
       "count  8.971510e+06\n",
       "mean   2.189708e+00\n",
       "std    1.631109e+00\n",
       "min    1.000000e+00\n",
       "25%    1.000000e+00\n",
       "50%    1.000000e+00\n",
       "75%    3.000000e+00\n",
       "max    8.000000e+00"
      ]
     },
     "execution_count": 18,
     "metadata": {},
     "output_type": "execute_result"
    }
   ],
   "source": [
    "# sensitive attribute 1: Race - Non-black\n",
    "\n",
    "print('The mean / median / standard deviation values of variables of interests of Non-black people:')\n",
    "df_cleaned_non_black[['action_taken']].describe()"
   ]
  },
  {
   "cell_type": "code",
   "execution_count": 19,
   "id": "b3c32b8e-62be-4d04-b8ca-5869c2152af3",
   "metadata": {},
   "outputs": [
    {
     "name": "stdout",
     "output_type": "stream",
     "text": [
      "The mean / median / standard deviation values of variables of interests of Black people:\n"
     ]
    },
    {
     "data": {
      "text/html": [
       "<div>\n",
       "<style scoped>\n",
       "    .dataframe tbody tr th:only-of-type {\n",
       "        vertical-align: middle;\n",
       "    }\n",
       "\n",
       "    .dataframe tbody tr th {\n",
       "        vertical-align: top;\n",
       "    }\n",
       "\n",
       "    .dataframe thead th {\n",
       "        text-align: right;\n",
       "    }\n",
       "</style>\n",
       "<table border=\"1\" class=\"dataframe\">\n",
       "  <thead>\n",
       "    <tr style=\"text-align: right;\">\n",
       "      <th></th>\n",
       "      <th>action_taken</th>\n",
       "    </tr>\n",
       "  </thead>\n",
       "  <tbody>\n",
       "    <tr>\n",
       "      <th>count</th>\n",
       "      <td>822192.000000</td>\n",
       "    </tr>\n",
       "    <tr>\n",
       "      <th>mean</th>\n",
       "      <td>2.383766</td>\n",
       "    </tr>\n",
       "    <tr>\n",
       "      <th>std</th>\n",
       "      <td>1.521168</td>\n",
       "    </tr>\n",
       "    <tr>\n",
       "      <th>min</th>\n",
       "      <td>1.000000</td>\n",
       "    </tr>\n",
       "    <tr>\n",
       "      <th>25%</th>\n",
       "      <td>1.000000</td>\n",
       "    </tr>\n",
       "    <tr>\n",
       "      <th>50%</th>\n",
       "      <td>2.000000</td>\n",
       "    </tr>\n",
       "    <tr>\n",
       "      <th>75%</th>\n",
       "      <td>3.000000</td>\n",
       "    </tr>\n",
       "    <tr>\n",
       "      <th>max</th>\n",
       "      <td>8.000000</td>\n",
       "    </tr>\n",
       "  </tbody>\n",
       "</table>\n",
       "</div>"
      ],
      "text/plain": [
       "        action_taken\n",
       "count  822192.000000\n",
       "mean        2.383766\n",
       "std         1.521168\n",
       "min         1.000000\n",
       "25%         1.000000\n",
       "50%         2.000000\n",
       "75%         3.000000\n",
       "max         8.000000"
      ]
     },
     "execution_count": 19,
     "metadata": {},
     "output_type": "execute_result"
    }
   ],
   "source": [
    "# sensitive attribute 1: Race - Black\n",
    "\n",
    "print('The mean / median / standard deviation values of variables of interests of Black people:')\n",
    "df_cleaned_black[['action_taken']].describe()"
   ]
  },
  {
   "cell_type": "code",
   "execution_count": 20,
   "id": "79ab9ca4-779f-487e-93b6-14ab3e4184fb",
   "metadata": {},
   "outputs": [
    {
     "name": "stdout",
     "output_type": "stream",
     "text": [
      "The mean / median / standard deviation values of variables of interests of Male:\n"
     ]
    },
    {
     "data": {
      "text/html": [
       "<div>\n",
       "<style scoped>\n",
       "    .dataframe tbody tr th:only-of-type {\n",
       "        vertical-align: middle;\n",
       "    }\n",
       "\n",
       "    .dataframe tbody tr th {\n",
       "        vertical-align: top;\n",
       "    }\n",
       "\n",
       "    .dataframe thead th {\n",
       "        text-align: right;\n",
       "    }\n",
       "</style>\n",
       "<table border=\"1\" class=\"dataframe\">\n",
       "  <thead>\n",
       "    <tr style=\"text-align: right;\">\n",
       "      <th></th>\n",
       "      <th>action_taken</th>\n",
       "    </tr>\n",
       "  </thead>\n",
       "  <tbody>\n",
       "    <tr>\n",
       "      <th>count</th>\n",
       "      <td>6.644522e+06</td>\n",
       "    </tr>\n",
       "    <tr>\n",
       "      <th>mean</th>\n",
       "      <td>2.199313e+00</td>\n",
       "    </tr>\n",
       "    <tr>\n",
       "      <th>std</th>\n",
       "      <td>1.631647e+00</td>\n",
       "    </tr>\n",
       "    <tr>\n",
       "      <th>min</th>\n",
       "      <td>1.000000e+00</td>\n",
       "    </tr>\n",
       "    <tr>\n",
       "      <th>25%</th>\n",
       "      <td>1.000000e+00</td>\n",
       "    </tr>\n",
       "    <tr>\n",
       "      <th>50%</th>\n",
       "      <td>1.000000e+00</td>\n",
       "    </tr>\n",
       "    <tr>\n",
       "      <th>75%</th>\n",
       "      <td>3.000000e+00</td>\n",
       "    </tr>\n",
       "    <tr>\n",
       "      <th>max</th>\n",
       "      <td>8.000000e+00</td>\n",
       "    </tr>\n",
       "  </tbody>\n",
       "</table>\n",
       "</div>"
      ],
      "text/plain": [
       "       action_taken\n",
       "count  6.644522e+06\n",
       "mean   2.199313e+00\n",
       "std    1.631647e+00\n",
       "min    1.000000e+00\n",
       "25%    1.000000e+00\n",
       "50%    1.000000e+00\n",
       "75%    3.000000e+00\n",
       "max    8.000000e+00"
      ]
     },
     "execution_count": 20,
     "metadata": {},
     "output_type": "execute_result"
    }
   ],
   "source": [
    "# sensitive attribute 2: Gender - Male\n",
    "\n",
    "print('The mean / median / standard deviation values of variables of interests of Male:')\n",
    "df_cleaned_male[['action_taken']].describe()"
   ]
  },
  {
   "cell_type": "code",
   "execution_count": 21,
   "id": "a3e198a4-fe61-476c-ac47-b14cc065b39a",
   "metadata": {},
   "outputs": [
    {
     "name": "stdout",
     "output_type": "stream",
     "text": [
      "The mean / median / standard deviation values of variables of interests of Female:\n"
     ]
    },
    {
     "data": {
      "text/html": [
       "<div>\n",
       "<style scoped>\n",
       "    .dataframe tbody tr th:only-of-type {\n",
       "        vertical-align: middle;\n",
       "    }\n",
       "\n",
       "    .dataframe tbody tr th {\n",
       "        vertical-align: top;\n",
       "    }\n",
       "\n",
       "    .dataframe thead th {\n",
       "        text-align: right;\n",
       "    }\n",
       "</style>\n",
       "<table border=\"1\" class=\"dataframe\">\n",
       "  <thead>\n",
       "    <tr style=\"text-align: right;\">\n",
       "      <th></th>\n",
       "      <th>action_taken</th>\n",
       "    </tr>\n",
       "  </thead>\n",
       "  <tbody>\n",
       "    <tr>\n",
       "      <th>count</th>\n",
       "      <td>3.149180e+06</td>\n",
       "    </tr>\n",
       "    <tr>\n",
       "      <th>mean</th>\n",
       "      <td>2.220105e+00</td>\n",
       "    </tr>\n",
       "    <tr>\n",
       "      <th>std</th>\n",
       "      <td>1.604695e+00</td>\n",
       "    </tr>\n",
       "    <tr>\n",
       "      <th>min</th>\n",
       "      <td>1.000000e+00</td>\n",
       "    </tr>\n",
       "    <tr>\n",
       "      <th>25%</th>\n",
       "      <td>1.000000e+00</td>\n",
       "    </tr>\n",
       "    <tr>\n",
       "      <th>50%</th>\n",
       "      <td>1.000000e+00</td>\n",
       "    </tr>\n",
       "    <tr>\n",
       "      <th>75%</th>\n",
       "      <td>3.000000e+00</td>\n",
       "    </tr>\n",
       "    <tr>\n",
       "      <th>max</th>\n",
       "      <td>8.000000e+00</td>\n",
       "    </tr>\n",
       "  </tbody>\n",
       "</table>\n",
       "</div>"
      ],
      "text/plain": [
       "       action_taken\n",
       "count  3.149180e+06\n",
       "mean   2.220105e+00\n",
       "std    1.604695e+00\n",
       "min    1.000000e+00\n",
       "25%    1.000000e+00\n",
       "50%    1.000000e+00\n",
       "75%    3.000000e+00\n",
       "max    8.000000e+00"
      ]
     },
     "execution_count": 21,
     "metadata": {},
     "output_type": "execute_result"
    }
   ],
   "source": [
    "# sensitive attribute 2: Gender - Female\n",
    "\n",
    "print('The mean / median / standard deviation values of variables of interests of Female:')\n",
    "df_cleaned_female[['action_taken']].describe()"
   ]
  },
  {
   "cell_type": "code",
   "execution_count": 22,
   "id": "632b973d-c2a8-4da5-83a1-103414cdfe21",
   "metadata": {},
   "outputs": [
    {
     "name": "stdout",
     "output_type": "stream",
     "text": [
      "The mean / median / standard deviation values of variables of interests of overall group:\n"
     ]
    },
    {
     "data": {
      "text/html": [
       "<div>\n",
       "<style scoped>\n",
       "    .dataframe tbody tr th:only-of-type {\n",
       "        vertical-align: middle;\n",
       "    }\n",
       "\n",
       "    .dataframe tbody tr th {\n",
       "        vertical-align: top;\n",
       "    }\n",
       "\n",
       "    .dataframe thead th {\n",
       "        text-align: right;\n",
       "    }\n",
       "</style>\n",
       "<table border=\"1\" class=\"dataframe\">\n",
       "  <thead>\n",
       "    <tr style=\"text-align: right;\">\n",
       "      <th></th>\n",
       "      <th>preapproval</th>\n",
       "      <th>loan_purpose</th>\n",
       "      <th>loan_type</th>\n",
       "      <th>hoepa_status</th>\n",
       "      <th>loan_amount_000s</th>\n",
       "    </tr>\n",
       "  </thead>\n",
       "  <tbody>\n",
       "    <tr>\n",
       "      <th>count</th>\n",
       "      <td>9.793702e+06</td>\n",
       "      <td>9.793702e+06</td>\n",
       "      <td>9.793702e+06</td>\n",
       "      <td>9.793702e+06</td>\n",
       "      <td>9.793702e+06</td>\n",
       "    </tr>\n",
       "    <tr>\n",
       "      <th>mean</th>\n",
       "      <td>2.779028e+00</td>\n",
       "      <td>1.839091e+00</td>\n",
       "      <td>1.362479e+00</td>\n",
       "      <td>1.999747e+00</td>\n",
       "      <td>2.420835e+02</td>\n",
       "    </tr>\n",
       "    <tr>\n",
       "      <th>std</th>\n",
       "      <td>4.764173e-01</td>\n",
       "      <td>9.437731e-01</td>\n",
       "      <td>6.841698e-01</td>\n",
       "      <td>1.590779e-02</td>\n",
       "      <td>5.762923e+02</td>\n",
       "    </tr>\n",
       "    <tr>\n",
       "      <th>min</th>\n",
       "      <td>1.000000e+00</td>\n",
       "      <td>1.000000e+00</td>\n",
       "      <td>1.000000e+00</td>\n",
       "      <td>1.000000e+00</td>\n",
       "      <td>1.000000e+00</td>\n",
       "    </tr>\n",
       "    <tr>\n",
       "      <th>25%</th>\n",
       "      <td>3.000000e+00</td>\n",
       "      <td>1.000000e+00</td>\n",
       "      <td>1.000000e+00</td>\n",
       "      <td>2.000000e+00</td>\n",
       "      <td>1.200000e+02</td>\n",
       "    </tr>\n",
       "    <tr>\n",
       "      <th>50%</th>\n",
       "      <td>3.000000e+00</td>\n",
       "      <td>1.000000e+00</td>\n",
       "      <td>1.000000e+00</td>\n",
       "      <td>2.000000e+00</td>\n",
       "      <td>1.960000e+02</td>\n",
       "    </tr>\n",
       "    <tr>\n",
       "      <th>75%</th>\n",
       "      <td>3.000000e+00</td>\n",
       "      <td>3.000000e+00</td>\n",
       "      <td>2.000000e+00</td>\n",
       "      <td>2.000000e+00</td>\n",
       "      <td>3.030000e+02</td>\n",
       "    </tr>\n",
       "    <tr>\n",
       "      <th>max</th>\n",
       "      <td>3.000000e+00</td>\n",
       "      <td>3.000000e+00</td>\n",
       "      <td>4.000000e+00</td>\n",
       "      <td>2.000000e+00</td>\n",
       "      <td>4.040000e+05</td>\n",
       "    </tr>\n",
       "  </tbody>\n",
       "</table>\n",
       "</div>"
      ],
      "text/plain": [
       "        preapproval  loan_purpose     loan_type  hoepa_status  \\\n",
       "count  9.793702e+06  9.793702e+06  9.793702e+06  9.793702e+06   \n",
       "mean   2.779028e+00  1.839091e+00  1.362479e+00  1.999747e+00   \n",
       "std    4.764173e-01  9.437731e-01  6.841698e-01  1.590779e-02   \n",
       "min    1.000000e+00  1.000000e+00  1.000000e+00  1.000000e+00   \n",
       "25%    3.000000e+00  1.000000e+00  1.000000e+00  2.000000e+00   \n",
       "50%    3.000000e+00  1.000000e+00  1.000000e+00  2.000000e+00   \n",
       "75%    3.000000e+00  3.000000e+00  2.000000e+00  2.000000e+00   \n",
       "max    3.000000e+00  3.000000e+00  4.000000e+00  2.000000e+00   \n",
       "\n",
       "       loan_amount_000s  \n",
       "count      9.793702e+06  \n",
       "mean       2.420835e+02  \n",
       "std        5.762923e+02  \n",
       "min        1.000000e+00  \n",
       "25%        1.200000e+02  \n",
       "50%        1.960000e+02  \n",
       "75%        3.030000e+02  \n",
       "max        4.040000e+05  "
      ]
     },
     "execution_count": 22,
     "metadata": {},
     "output_type": "execute_result"
    }
   ],
   "source": [
    "# Other outcome variables of Interests\n",
    "print('The mean / median / standard deviation values of variables of interests of overall group:')\n",
    "df_cleaned[['preapproval', 'loan_purpose', 'loan_type', 'hoepa_status', 'loan_amount_000s']].describe()"
   ]
  },
  {
   "cell_type": "code",
   "execution_count": 23,
   "id": "205fc245-6f23-47db-b8c7-af35e2fd44aa",
   "metadata": {},
   "outputs": [
    {
     "name": "stdout",
     "output_type": "stream",
     "text": [
      "The mean / median / standard deviation values of variables of interests of Non-black people:\n"
     ]
    },
    {
     "data": {
      "text/html": [
       "<div>\n",
       "<style scoped>\n",
       "    .dataframe tbody tr th:only-of-type {\n",
       "        vertical-align: middle;\n",
       "    }\n",
       "\n",
       "    .dataframe tbody tr th {\n",
       "        vertical-align: top;\n",
       "    }\n",
       "\n",
       "    .dataframe thead th {\n",
       "        text-align: right;\n",
       "    }\n",
       "</style>\n",
       "<table border=\"1\" class=\"dataframe\">\n",
       "  <thead>\n",
       "    <tr style=\"text-align: right;\">\n",
       "      <th></th>\n",
       "      <th>preapproval</th>\n",
       "      <th>loan_purpose</th>\n",
       "      <th>loan_type</th>\n",
       "      <th>hoepa_status</th>\n",
       "      <th>loan_amount_000s</th>\n",
       "    </tr>\n",
       "  </thead>\n",
       "  <tbody>\n",
       "    <tr>\n",
       "      <th>count</th>\n",
       "      <td>8.971510e+06</td>\n",
       "      <td>8.971510e+06</td>\n",
       "      <td>8.971510e+06</td>\n",
       "      <td>8.971510e+06</td>\n",
       "      <td>8.971510e+06</td>\n",
       "    </tr>\n",
       "    <tr>\n",
       "      <th>mean</th>\n",
       "      <td>2.780272e+00</td>\n",
       "      <td>1.837060e+00</td>\n",
       "      <td>1.340209e+00</td>\n",
       "      <td>1.999754e+00</td>\n",
       "      <td>2.462406e+02</td>\n",
       "    </tr>\n",
       "    <tr>\n",
       "      <th>std</th>\n",
       "      <td>4.754478e-01</td>\n",
       "      <td>9.446531e-01</td>\n",
       "      <td>6.718462e-01</td>\n",
       "      <td>1.569669e-02</td>\n",
       "      <td>4.613608e+02</td>\n",
       "    </tr>\n",
       "    <tr>\n",
       "      <th>min</th>\n",
       "      <td>1.000000e+00</td>\n",
       "      <td>1.000000e+00</td>\n",
       "      <td>1.000000e+00</td>\n",
       "      <td>1.000000e+00</td>\n",
       "      <td>1.000000e+00</td>\n",
       "    </tr>\n",
       "    <tr>\n",
       "      <th>25%</th>\n",
       "      <td>3.000000e+00</td>\n",
       "      <td>1.000000e+00</td>\n",
       "      <td>1.000000e+00</td>\n",
       "      <td>2.000000e+00</td>\n",
       "      <td>1.220000e+02</td>\n",
       "    </tr>\n",
       "    <tr>\n",
       "      <th>50%</th>\n",
       "      <td>3.000000e+00</td>\n",
       "      <td>1.000000e+00</td>\n",
       "      <td>1.000000e+00</td>\n",
       "      <td>2.000000e+00</td>\n",
       "      <td>2.000000e+02</td>\n",
       "    </tr>\n",
       "    <tr>\n",
       "      <th>75%</th>\n",
       "      <td>3.000000e+00</td>\n",
       "      <td>3.000000e+00</td>\n",
       "      <td>1.000000e+00</td>\n",
       "      <td>2.000000e+00</td>\n",
       "      <td>3.080000e+02</td>\n",
       "    </tr>\n",
       "    <tr>\n",
       "      <th>max</th>\n",
       "      <td>3.000000e+00</td>\n",
       "      <td>3.000000e+00</td>\n",
       "      <td>4.000000e+00</td>\n",
       "      <td>2.000000e+00</td>\n",
       "      <td>4.040000e+05</td>\n",
       "    </tr>\n",
       "  </tbody>\n",
       "</table>\n",
       "</div>"
      ],
      "text/plain": [
       "        preapproval  loan_purpose     loan_type  hoepa_status  \\\n",
       "count  8.971510e+06  8.971510e+06  8.971510e+06  8.971510e+06   \n",
       "mean   2.780272e+00  1.837060e+00  1.340209e+00  1.999754e+00   \n",
       "std    4.754478e-01  9.446531e-01  6.718462e-01  1.569669e-02   \n",
       "min    1.000000e+00  1.000000e+00  1.000000e+00  1.000000e+00   \n",
       "25%    3.000000e+00  1.000000e+00  1.000000e+00  2.000000e+00   \n",
       "50%    3.000000e+00  1.000000e+00  1.000000e+00  2.000000e+00   \n",
       "75%    3.000000e+00  3.000000e+00  1.000000e+00  2.000000e+00   \n",
       "max    3.000000e+00  3.000000e+00  4.000000e+00  2.000000e+00   \n",
       "\n",
       "       loan_amount_000s  \n",
       "count      8.971510e+06  \n",
       "mean       2.462406e+02  \n",
       "std        4.613608e+02  \n",
       "min        1.000000e+00  \n",
       "25%        1.220000e+02  \n",
       "50%        2.000000e+02  \n",
       "75%        3.080000e+02  \n",
       "max        4.040000e+05  "
      ]
     },
     "execution_count": 23,
     "metadata": {},
     "output_type": "execute_result"
    }
   ],
   "source": [
    "# sensitive attribute 1: Race - Non-black\n",
    "\n",
    "print('The mean / median / standard deviation values of variables of interests of Non-black people:')\n",
    "df_cleaned_non_black[['preapproval', 'loan_purpose', 'loan_type', 'hoepa_status', 'loan_amount_000s']].describe()"
   ]
  },
  {
   "cell_type": "code",
   "execution_count": 24,
   "id": "d8fb5ea8-d706-46f9-9282-5e382b581f6e",
   "metadata": {},
   "outputs": [
    {
     "name": "stdout",
     "output_type": "stream",
     "text": [
      "The mean / median / standard deviation values of variables of interests of Black people:\n"
     ]
    },
    {
     "data": {
      "text/html": [
       "<div>\n",
       "<style scoped>\n",
       "    .dataframe tbody tr th:only-of-type {\n",
       "        vertical-align: middle;\n",
       "    }\n",
       "\n",
       "    .dataframe tbody tr th {\n",
       "        vertical-align: top;\n",
       "    }\n",
       "\n",
       "    .dataframe thead th {\n",
       "        text-align: right;\n",
       "    }\n",
       "</style>\n",
       "<table border=\"1\" class=\"dataframe\">\n",
       "  <thead>\n",
       "    <tr style=\"text-align: right;\">\n",
       "      <th></th>\n",
       "      <th>preapproval</th>\n",
       "      <th>loan_purpose</th>\n",
       "      <th>loan_type</th>\n",
       "      <th>hoepa_status</th>\n",
       "      <th>loan_amount_000s</th>\n",
       "    </tr>\n",
       "  </thead>\n",
       "  <tbody>\n",
       "    <tr>\n",
       "      <th>count</th>\n",
       "      <td>822192.000000</td>\n",
       "      <td>822192.000000</td>\n",
       "      <td>822192.000000</td>\n",
       "      <td>822192.000000</td>\n",
       "      <td>822192.000000</td>\n",
       "    </tr>\n",
       "    <tr>\n",
       "      <th>mean</th>\n",
       "      <td>2.765454</td>\n",
       "      <td>1.861259</td>\n",
       "      <td>1.605480</td>\n",
       "      <td>1.999674</td>\n",
       "      <td>196.722055</td>\n",
       "    </tr>\n",
       "    <tr>\n",
       "      <th>std</th>\n",
       "      <td>0.486665</td>\n",
       "      <td>0.933831</td>\n",
       "      <td>0.765489</td>\n",
       "      <td>0.018051</td>\n",
       "      <td>1277.179172</td>\n",
       "    </tr>\n",
       "    <tr>\n",
       "      <th>min</th>\n",
       "      <td>1.000000</td>\n",
       "      <td>1.000000</td>\n",
       "      <td>1.000000</td>\n",
       "      <td>1.000000</td>\n",
       "      <td>1.000000</td>\n",
       "    </tr>\n",
       "    <tr>\n",
       "      <th>25%</th>\n",
       "      <td>3.000000</td>\n",
       "      <td>1.000000</td>\n",
       "      <td>1.000000</td>\n",
       "      <td>2.000000</td>\n",
       "      <td>93.000000</td>\n",
       "    </tr>\n",
       "    <tr>\n",
       "      <th>50%</th>\n",
       "      <td>3.000000</td>\n",
       "      <td>1.000000</td>\n",
       "      <td>1.000000</td>\n",
       "      <td>2.000000</td>\n",
       "      <td>164.000000</td>\n",
       "    </tr>\n",
       "    <tr>\n",
       "      <th>75%</th>\n",
       "      <td>3.000000</td>\n",
       "      <td>3.000000</td>\n",
       "      <td>2.000000</td>\n",
       "      <td>2.000000</td>\n",
       "      <td>255.000000</td>\n",
       "    </tr>\n",
       "    <tr>\n",
       "      <th>max</th>\n",
       "      <td>3.000000</td>\n",
       "      <td>3.000000</td>\n",
       "      <td>4.000000</td>\n",
       "      <td>2.000000</td>\n",
       "      <td>398000.000000</td>\n",
       "    </tr>\n",
       "  </tbody>\n",
       "</table>\n",
       "</div>"
      ],
      "text/plain": [
       "         preapproval   loan_purpose      loan_type   hoepa_status  \\\n",
       "count  822192.000000  822192.000000  822192.000000  822192.000000   \n",
       "mean        2.765454       1.861259       1.605480       1.999674   \n",
       "std         0.486665       0.933831       0.765489       0.018051   \n",
       "min         1.000000       1.000000       1.000000       1.000000   \n",
       "25%         3.000000       1.000000       1.000000       2.000000   \n",
       "50%         3.000000       1.000000       1.000000       2.000000   \n",
       "75%         3.000000       3.000000       2.000000       2.000000   \n",
       "max         3.000000       3.000000       4.000000       2.000000   \n",
       "\n",
       "       loan_amount_000s  \n",
       "count     822192.000000  \n",
       "mean         196.722055  \n",
       "std         1277.179172  \n",
       "min            1.000000  \n",
       "25%           93.000000  \n",
       "50%          164.000000  \n",
       "75%          255.000000  \n",
       "max       398000.000000  "
      ]
     },
     "execution_count": 24,
     "metadata": {},
     "output_type": "execute_result"
    }
   ],
   "source": [
    "# sensitive attribute 1: Race - Black\n",
    "\n",
    "print('The mean / median / standard deviation values of variables of interests of Black people:')\n",
    "df_cleaned_black[['preapproval', 'loan_purpose', 'loan_type', 'hoepa_status', 'loan_amount_000s']].describe()"
   ]
  },
  {
   "cell_type": "code",
   "execution_count": 25,
   "id": "d495f09a-f24b-4b3c-9761-24930f2ac17b",
   "metadata": {},
   "outputs": [
    {
     "name": "stdout",
     "output_type": "stream",
     "text": [
      "The mean / median / standard deviation values of variables of interests of Male:\n"
     ]
    },
    {
     "data": {
      "text/html": [
       "<div>\n",
       "<style scoped>\n",
       "    .dataframe tbody tr th:only-of-type {\n",
       "        vertical-align: middle;\n",
       "    }\n",
       "\n",
       "    .dataframe tbody tr th {\n",
       "        vertical-align: top;\n",
       "    }\n",
       "\n",
       "    .dataframe thead th {\n",
       "        text-align: right;\n",
       "    }\n",
       "</style>\n",
       "<table border=\"1\" class=\"dataframe\">\n",
       "  <thead>\n",
       "    <tr style=\"text-align: right;\">\n",
       "      <th></th>\n",
       "      <th>preapproval</th>\n",
       "      <th>loan_purpose</th>\n",
       "      <th>loan_type</th>\n",
       "      <th>hoepa_status</th>\n",
       "      <th>loan_amount_000s</th>\n",
       "    </tr>\n",
       "  </thead>\n",
       "  <tbody>\n",
       "    <tr>\n",
       "      <th>count</th>\n",
       "      <td>6.644522e+06</td>\n",
       "      <td>6.644522e+06</td>\n",
       "      <td>6.644522e+06</td>\n",
       "      <td>6.644522e+06</td>\n",
       "      <td>6.644522e+06</td>\n",
       "    </tr>\n",
       "    <tr>\n",
       "      <th>mean</th>\n",
       "      <td>2.779527e+00</td>\n",
       "      <td>1.839506e+00</td>\n",
       "      <td>1.393524e+00</td>\n",
       "      <td>1.999761e+00</td>\n",
       "      <td>2.582581e+02</td>\n",
       "    </tr>\n",
       "    <tr>\n",
       "      <th>std</th>\n",
       "      <td>4.760381e-01</td>\n",
       "      <td>9.467813e-01</td>\n",
       "      <td>7.224162e-01</td>\n",
       "      <td>1.545758e-02</td>\n",
       "      <td>4.950104e+02</td>\n",
       "    </tr>\n",
       "    <tr>\n",
       "      <th>min</th>\n",
       "      <td>1.000000e+00</td>\n",
       "      <td>1.000000e+00</td>\n",
       "      <td>1.000000e+00</td>\n",
       "      <td>1.000000e+00</td>\n",
       "      <td>1.000000e+00</td>\n",
       "    </tr>\n",
       "    <tr>\n",
       "      <th>25%</th>\n",
       "      <td>3.000000e+00</td>\n",
       "      <td>1.000000e+00</td>\n",
       "      <td>1.000000e+00</td>\n",
       "      <td>2.000000e+00</td>\n",
       "      <td>1.290000e+02</td>\n",
       "    </tr>\n",
       "    <tr>\n",
       "      <th>50%</th>\n",
       "      <td>3.000000e+00</td>\n",
       "      <td>1.000000e+00</td>\n",
       "      <td>1.000000e+00</td>\n",
       "      <td>2.000000e+00</td>\n",
       "      <td>2.080000e+02</td>\n",
       "    </tr>\n",
       "    <tr>\n",
       "      <th>75%</th>\n",
       "      <td>3.000000e+00</td>\n",
       "      <td>3.000000e+00</td>\n",
       "      <td>2.000000e+00</td>\n",
       "      <td>2.000000e+00</td>\n",
       "      <td>3.220000e+02</td>\n",
       "    </tr>\n",
       "    <tr>\n",
       "      <th>max</th>\n",
       "      <td>3.000000e+00</td>\n",
       "      <td>3.000000e+00</td>\n",
       "      <td>4.000000e+00</td>\n",
       "      <td>2.000000e+00</td>\n",
       "      <td>3.980000e+05</td>\n",
       "    </tr>\n",
       "  </tbody>\n",
       "</table>\n",
       "</div>"
      ],
      "text/plain": [
       "        preapproval  loan_purpose     loan_type  hoepa_status  \\\n",
       "count  6.644522e+06  6.644522e+06  6.644522e+06  6.644522e+06   \n",
       "mean   2.779527e+00  1.839506e+00  1.393524e+00  1.999761e+00   \n",
       "std    4.760381e-01  9.467813e-01  7.224162e-01  1.545758e-02   \n",
       "min    1.000000e+00  1.000000e+00  1.000000e+00  1.000000e+00   \n",
       "25%    3.000000e+00  1.000000e+00  1.000000e+00  2.000000e+00   \n",
       "50%    3.000000e+00  1.000000e+00  1.000000e+00  2.000000e+00   \n",
       "75%    3.000000e+00  3.000000e+00  2.000000e+00  2.000000e+00   \n",
       "max    3.000000e+00  3.000000e+00  4.000000e+00  2.000000e+00   \n",
       "\n",
       "       loan_amount_000s  \n",
       "count      6.644522e+06  \n",
       "mean       2.582581e+02  \n",
       "std        4.950104e+02  \n",
       "min        1.000000e+00  \n",
       "25%        1.290000e+02  \n",
       "50%        2.080000e+02  \n",
       "75%        3.220000e+02  \n",
       "max        3.980000e+05  "
      ]
     },
     "execution_count": 25,
     "metadata": {},
     "output_type": "execute_result"
    }
   ],
   "source": [
    "# sensitive attribute 2: Gender - Male\n",
    "\n",
    "print('The mean / median / standard deviation values of variables of interests of Male:')\n",
    "df_cleaned_male[['preapproval', 'loan_purpose', 'loan_type', 'hoepa_status', 'loan_amount_000s']].describe()"
   ]
  },
  {
   "cell_type": "code",
   "execution_count": 26,
   "id": "59cc42be-d625-45be-977b-d85a1830bef1",
   "metadata": {},
   "outputs": [
    {
     "name": "stdout",
     "output_type": "stream",
     "text": [
      "The mean / median / standard deviation values of variables of interests of Female:\n"
     ]
    },
    {
     "data": {
      "text/html": [
       "<div>\n",
       "<style scoped>\n",
       "    .dataframe tbody tr th:only-of-type {\n",
       "        vertical-align: middle;\n",
       "    }\n",
       "\n",
       "    .dataframe tbody tr th {\n",
       "        vertical-align: top;\n",
       "    }\n",
       "\n",
       "    .dataframe thead th {\n",
       "        text-align: right;\n",
       "    }\n",
       "</style>\n",
       "<table border=\"1\" class=\"dataframe\">\n",
       "  <thead>\n",
       "    <tr style=\"text-align: right;\">\n",
       "      <th></th>\n",
       "      <th>preapproval</th>\n",
       "      <th>loan_purpose</th>\n",
       "      <th>loan_type</th>\n",
       "      <th>hoepa_status</th>\n",
       "      <th>loan_amount_000s</th>\n",
       "    </tr>\n",
       "  </thead>\n",
       "  <tbody>\n",
       "    <tr>\n",
       "      <th>count</th>\n",
       "      <td>3.149180e+06</td>\n",
       "      <td>3.149180e+06</td>\n",
       "      <td>3.149180e+06</td>\n",
       "      <td>3.149180e+06</td>\n",
       "      <td>3.149180e+06</td>\n",
       "    </tr>\n",
       "    <tr>\n",
       "      <th>mean</th>\n",
       "      <td>2.777975e+00</td>\n",
       "      <td>1.838217e+00</td>\n",
       "      <td>1.296977e+00</td>\n",
       "      <td>1.999717e+00</td>\n",
       "      <td>2.079562e+02</td>\n",
       "    </tr>\n",
       "    <tr>\n",
       "      <th>std</th>\n",
       "      <td>4.772148e-01</td>\n",
       "      <td>9.373939e-01</td>\n",
       "      <td>5.901333e-01</td>\n",
       "      <td>1.681817e-02</td>\n",
       "      <td>7.170236e+02</td>\n",
       "    </tr>\n",
       "    <tr>\n",
       "      <th>min</th>\n",
       "      <td>1.000000e+00</td>\n",
       "      <td>1.000000e+00</td>\n",
       "      <td>1.000000e+00</td>\n",
       "      <td>1.000000e+00</td>\n",
       "      <td>1.000000e+00</td>\n",
       "    </tr>\n",
       "    <tr>\n",
       "      <th>25%</th>\n",
       "      <td>3.000000e+00</td>\n",
       "      <td>1.000000e+00</td>\n",
       "      <td>1.000000e+00</td>\n",
       "      <td>2.000000e+00</td>\n",
       "      <td>1.030000e+02</td>\n",
       "    </tr>\n",
       "    <tr>\n",
       "      <th>50%</th>\n",
       "      <td>3.000000e+00</td>\n",
       "      <td>1.000000e+00</td>\n",
       "      <td>1.000000e+00</td>\n",
       "      <td>2.000000e+00</td>\n",
       "      <td>1.710000e+02</td>\n",
       "    </tr>\n",
       "    <tr>\n",
       "      <th>75%</th>\n",
       "      <td>3.000000e+00</td>\n",
       "      <td>3.000000e+00</td>\n",
       "      <td>1.000000e+00</td>\n",
       "      <td>2.000000e+00</td>\n",
       "      <td>2.660000e+02</td>\n",
       "    </tr>\n",
       "    <tr>\n",
       "      <th>max</th>\n",
       "      <td>3.000000e+00</td>\n",
       "      <td>3.000000e+00</td>\n",
       "      <td>4.000000e+00</td>\n",
       "      <td>2.000000e+00</td>\n",
       "      <td>4.040000e+05</td>\n",
       "    </tr>\n",
       "  </tbody>\n",
       "</table>\n",
       "</div>"
      ],
      "text/plain": [
       "        preapproval  loan_purpose     loan_type  hoepa_status  \\\n",
       "count  3.149180e+06  3.149180e+06  3.149180e+06  3.149180e+06   \n",
       "mean   2.777975e+00  1.838217e+00  1.296977e+00  1.999717e+00   \n",
       "std    4.772148e-01  9.373939e-01  5.901333e-01  1.681817e-02   \n",
       "min    1.000000e+00  1.000000e+00  1.000000e+00  1.000000e+00   \n",
       "25%    3.000000e+00  1.000000e+00  1.000000e+00  2.000000e+00   \n",
       "50%    3.000000e+00  1.000000e+00  1.000000e+00  2.000000e+00   \n",
       "75%    3.000000e+00  3.000000e+00  1.000000e+00  2.000000e+00   \n",
       "max    3.000000e+00  3.000000e+00  4.000000e+00  2.000000e+00   \n",
       "\n",
       "       loan_amount_000s  \n",
       "count      3.149180e+06  \n",
       "mean       2.079562e+02  \n",
       "std        7.170236e+02  \n",
       "min        1.000000e+00  \n",
       "25%        1.030000e+02  \n",
       "50%        1.710000e+02  \n",
       "75%        2.660000e+02  \n",
       "max        4.040000e+05  "
      ]
     },
     "execution_count": 26,
     "metadata": {},
     "output_type": "execute_result"
    }
   ],
   "source": [
    "# sensitive attribute 2: Gender - Female\n",
    "\n",
    "print('The mean / median / standard deviation values of variables of interests of Female:')\n",
    "df_cleaned_female[['preapproval', 'loan_purpose', 'loan_type', 'hoepa_status', 'loan_amount_000s']].describe()"
   ]
  },
  {
   "cell_type": "code",
   "execution_count": 27,
   "id": "7cd9022d-305b-4232-bc69-879a7a63b85b",
   "metadata": {},
   "outputs": [],
   "source": [
    "race_data, action_taken_data, preapproval_data, loan_purpose_data, loan_type_data, hoepa_status_data, loan_amount_000s_data, co_race_data = df_cleaned['applicant_race_1'], df_cleaned['action_taken'], df_cleaned['preapproval'], df_cleaned['loan_purpose'], df_cleaned['loan_type'], df_cleaned['hoepa_status'], df_cleaned['loan_amount_000s'], df_cleaned['co_applicant_race_1'], "
   ]
  },
  {
   "cell_type": "code",
   "execution_count": 28,
   "id": "d5e20c6f-4498-4ad8-8767-6b2948f3478f",
   "metadata": {},
   "outputs": [
    {
     "data": {
      "image/png": "[encoded data removed]",
      "text/plain": [
       "<Figure size 432x288 with 1 Axes>"
      ]
     },
     "metadata": {
      "needs_background": "light"
     },
     "output_type": "display_data"
    }
   ],
   "source": [
    "# plot 1: Histogram of race distribution\n",
    "plt.title('plot 1: Histogram of race distribution')\n",
    "plt.xlabel('Race')\n",
    "plt.ylabel('Race Count')\n",
    "plt.hist(race_data, color='blue', bins = 30)\n",
    "plt.show()"
   ]
  },
  {
   "cell_type": "markdown",
   "id": "6e36e83e-5938-4139-8d79-2bfdb3ea8579",
   "metadata": {},
   "source": [
    "According to plot 1, there is a significantly large number of white people (5) applying mortgage in the dataset than all other races. The amount of native American (1: American Indian or Alaska Native, 4: Native Hawaiian or Other Pacific Islander) in the dataset is very small."
   ]
  },
  {
   "cell_type": "code",
   "execution_count": 29,
   "id": "c7fa312f-c899-4b9c-8a72-bc736d61b93e",
   "metadata": {},
   "outputs": [
    {
     "data": {
      "image/png": "[encoded data removed]",
      "text/plain": [
       "<Figure size 432x288 with 1 Axes>"
      ]
     },
     "metadata": {
      "needs_background": "light"
     },
     "output_type": "display_data"
    }
   ],
   "source": [
    "# plot 2: Histogram of action_taken\n",
    "plt.title('# plot 2: Histogram of Action Taken')\n",
    "plt.xlabel('Action taken record')\n",
    "plt.ylabel('Action taken count')\n",
    "plt.hist(action_taken_data, color='blue', bins = 30)\n",
    "plt.show()"
   ]
  },
  {
   "cell_type": "markdown",
   "id": "2c45e7b2-7a6d-4caf-93fb-b896c8edc2c4",
   "metadata": {},
   "source": [
    "According to plot 2, there is a significantly large number of people with Loan originated (1). The second and third largest group sets are Application denied by financial institution (3) and Application withdrawn by applicant (4). Excluding those with preapproval request denied by financial institution (7) and Preapproval request approved but not accepted (8), Application approved but not accepted (2) is the smallest group sets."
   ]
  },
  {
   "cell_type": "code",
   "execution_count": 30,
   "id": "e75d57bd-2769-4219-8fbf-2503fbc74a09",
   "metadata": {},
   "outputs": [
    {
     "data": {
      "image/png": "[encoded data removed]",
      "text/plain": [
       "<Figure size 432x288 with 1 Axes>"
      ]
     },
     "metadata": {
      "needs_background": "light"
     },
     "output_type": "display_data"
    }
   ],
   "source": [
    "# plot 3: Scatterplot of relationship of loan purpose and loan amount\n",
    "plt.title('plot 3: Scatterplot of relationship of loan purpose and loan amount')\n",
    "plt.xlabel('Loan purpose')\n",
    "plt.ylabel('Loan amount')\n",
    "plt.scatter(loan_purpose_data, loan_amount_000s_data, color='orange')\n",
    "plt.show()"
   ]
  },
  {
   "cell_type": "markdown",
   "id": "accc0a48-57e2-4323-9ba8-de5426fd6359",
   "metadata": {},
   "source": [
    "According to plot 3, the people with loan purpose \"Home improvement\" (2) usually has a lower loan amount. It makes sense in real life, because it cost much less to repair home than buying a home or refinancing. The loan amount varies the most for the purpose of \"Refinancing\" (3), with many higher amounts of loans than the other purposes. For the purpose of \"Home purchase\" (1), there are many high and low loan amounts exisiting, which shows a great variety for the cost of purchasing a house."
   ]
  },
  {
   "cell_type": "code",
   "execution_count": 31,
   "id": "b0813630-62db-44ea-b0a2-684103b46c60",
   "metadata": {},
   "outputs": [
    {
     "data": {
      "image/png": "[encoded data removed]",
      "text/plain": [
       "<Figure size 432x288 with 1 Axes>"
      ]
     },
     "metadata": {
      "needs_background": "light"
     },
     "output_type": "display_data"
    }
   ],
   "source": [
    "# plot 4: Histogram of loan type\n",
    "plt.title('plot 4: Histogram of loan type')\n",
    "plt.xlabel('Loan type')\n",
    "plt.ylabel('Loan type count')\n",
    "plt.hist(loan_type_data, color='blue', bins = 30)\n",
    "plt.show()"
   ]
  },
  {
   "cell_type": "markdown",
   "id": "3f6c4196-9790-4f25-9bee-a6f8cbd22db0",
   "metadata": {},
   "source": [
    "According to plot 4, the largest type is Conventional (any loan other than FHA, VA, FSA, or RHS loans) (1). The second largest loan type is FHA-insured (Federal Housing Administration) (2). The third largest loan type is VA-guaranteed (Veterans Administration) (3). The smallest loan type is FSA/RHS (Farm Service Agency or Rural Housing Service) (4)."
   ]
  },
  {
   "cell_type": "code",
   "execution_count": 32,
   "id": "8f1cce38-cf6e-4aff-a275-5432b1e0f4d2",
   "metadata": {},
   "outputs": [
    {
     "data": {
      "image/png": "[encoded data removed]",
      "text/plain": [
       "<Figure size 432x288 with 1 Axes>"
      ]
     },
     "metadata": {
      "needs_background": "light"
     },
     "output_type": "display_data"
    }
   ],
   "source": [
    "# plot 5: Histogram of co-applcant risk\n",
    "plt.title('plot 5: Histogram of co-applcant race')\n",
    "plt.xlabel('Co-applicant race data')\n",
    "plt.ylabel('Co-applicant race data count')\n",
    "plt.hist(co_race_data, color='blue', bins = 30)\n",
    "plt.show()"
   ]
  },
  {
   "cell_type": "markdown",
   "id": "272d4718-c937-4b23-abab-5d03b339b5e0",
   "metadata": {},
   "source": [
    "According to plot 5, most people have no co-applicant (8). For those with a co-applicant, white (5) people is at the largest amount, and the native Americans are at the lowest amount (1, 4), which is similar to the histogram of applicant race."
   ]
  },
  {
   "cell_type": "markdown",
   "id": "24c41f80",
   "metadata": {},
   "source": [
    "## Step 3: Research Question, Hypotheses, and Analysis Plan\n",
    "### Research Question\n",
    "Inputs: `Applicant Race` (C), `Applicant Sex` (C), `County Code` (C), `Loan Amount` (N), `Applicant Income` (N) \\\n",
    "Outputs: `Action Taken ` (C) \\\n",
    "Evaluation Metrics: Recall, Predictive Equality \\\n",
    "\\* (C) represents Categorical (Using Label Encoding) and (N) represents Numerical\n",
    "\n",
    "The inputs we are interested in are `Applicant Race`, `Applicant Sex`, `County Code`, `Loan Amount`, `Applicant Income` because `Applicant Income` and `Loan Amount` are, intuitively, the most applicable to whether a loan gets accepted or not. According to [investopedia](https://www.investopedia.com/articles/mortgages-real-estate/08/mortgage-candidate.asp)[3], credit score, debt, income, and appraisal value have an impact on whether an applicant has successfully gets a mortgage, so I believe that these variables can be the most indicative of these measures. We're including `Applicant Race`, `Applicant Sex` in some analyses because these factors should not affect whether an applicant gets approved or not (sensitive features).\n",
    "\n",
    "The main output we want to check is `Action Taken`, because this column indicates whether the loan was approved or not (aka originated). Another potential column of interest is `Denial Reason 1`, `Denial Reason 2`, or `Denial Reason 3` because it could be good supplemental information as to what was faulty about the application, however the denial reason for most applicants will be undefined since most loans in the dataset are approved.\n",
    "\n",
    "Our main evaluation metric is recall because we believe that telling an applicant that they can't get a loan when they actually can is more detrimental than saying they can when they can't. Although there is the time aspect that goes into applying for a loan, it's better to apply and get rejected than not apply at all, because there is still a chance that the applicant could have gotten funding. However, although we are focusing on recall, we will still check other metrics like precision/F1 to make sure there isn't too much of a skew in the data.\n",
    "\n",
    "We will also evaluate across the sensitive features for fairness, focusing on predictive equality, but also taking into consideration statistical parity and calibration. We consider predictive equality to be the main focus because we want to ensure that our model isn't unfairly predicting one race/gender/ethnicity would fail to get a loan compared to others.\n",
    "\n",
    "Overall, the goal of this project is to create a loan approval prediction model that balances fairness and \"accuracy\" in the form of predictive equality and recall.\n",
    "\n",
    "### Hypotheses\n",
    "We predict that white people and males will be the most likely to get approved in our model. This is due to the skew in our data towards a large amount of white people and males. This skew may be due to the makeup of the United States, which is majority white. Conventional loans also appear to be the most general and therefore most common type of loan we would see. By ensuring that our data is even across the different sensitive features, we predict that the model, in turn, will become more fair and representative for each sex, race, and ethnicity.\n",
    "\n",
    "### Analyses\n",
    "Since we have five people in our group, we will run five analysis:\n",
    "\n",
    "#### Analysis 1: Logistic Regression Model (Numerical Variables to Categorical)\n",
    "We will first run a logistic regression model using `Loan Amount` and `Applicant Income` to try to predict `Action Taken`. This is a initial test to see how well a model will run without any modifications to the data\n",
    "\n",
    "#### Analysis 2: KNN Model (Numerical Variables to Categorical)\n",
    "We will then run a KNN model using `Loan Amount`, `Applicant Income`, and  `County Code` to try to predict `Action Taken`. This is a initial test to see how well a model will run without any modifications to the data, to be compared to the results of analysis 1. Adding `County Code` allows for more insight for the model into the dataset.\n",
    "\n",
    "#### Analysis 3: Random Forest Model (Numerical and Categorical Variables to Categorical)\n",
    "We will then run a KNN model using `Loan Amount`, `Applicant Income`,  `County Code`,  `Applicant Race`, and `Applicant Sex` to try to predict `Action Taken`. This is a initial test to see how well a model will run without any modifications to the data, to be compared to the results of analysis 1 and 2. Adding these new variables shouldn't drastically change any metric since race and sex shouldn't matter for loan approval.\n",
    "\n",
    "#### Analysis 4: Upsampled Logistic Regression Model or KNN (Numerical Variables to Categorical)\n",
    "Based on the model that performed better (in terms of accuracy) between KNN and Logistic, we will upsample the data by downsampling the white people and males in order to try to create a more fair model.\n",
    "\n",
    "#### Analysis 5: Upsampled Random Forest Model (Categorical Variables to Categorical)\n",
    "We will upsample then use the upsampled data for the random forest model in order to try to create a more fair model."
   ]
  },
  {
   "cell_type": "markdown",
   "id": "83f144ad",
   "metadata": {},
   "source": [
    "# Step 4"
   ]
  },
  {
   "cell_type": "code",
   "execution_count": 17,
   "id": "1f5bcd81",
   "metadata": {},
   "outputs": [],
   "source": [
    "from sklearn.linear_model import LogisticRegression\n",
    "from sklearn.model_selection import train_test_split\n",
    "import sklearn.metrics\n",
    "import pickle\n",
    "import matplotlib.pyplot as plt"
   ]
  },
  {
   "cell_type": "code",
   "execution_count": 4,
   "id": "d7184fb7",
   "metadata": {},
   "outputs": [],
   "source": [
    "# setting the training / test data\n",
    "feats = ['loan_amount_000s','applicant_income_000s']\n",
    "Xs = df_cleaned[['loan_amount_000s','applicant_income_000s', 'applicant_sex', 'applicant_race_1','county_code']].copy()\n",
    "Ys = df_cleaned['action_taken'].copy()\n",
    "X_train, X_test, y_train, y_test = train_test_split(Xs, Ys, test_size=0.33)\n",
    "  "
   ]
  },
  {
   "cell_type": "code",
   "execution_count": 11,
   "id": "7b2b4c48",
   "metadata": {},
   "outputs": [],
   "source": [
    "\n",
    "# defining function for evaluation\n",
    "# precision/F1 to make sure there isn't too much of a skew in the data. When applicable, we will state the p-values\n",
    "# def accuracy_report(predict, truth = y_test):\n",
    "#   recall = sklearn.metrics.recall_score(truth, predict, average='macro')\n",
    "#   mean_accuracy = sklearn.metrics.accuracy_score(truth, predict)\n",
    "#   precision = sklearn.metrics.precision_score(truth, predict, average='macro')\n",
    "#   f1 = sklearn.metrics.f1_score(truth, predict, average='macro')\n",
    "#   print(f'Our recall was {recall}\\n Our mean_accuracy was {mean_accuracy}\\n Our precision was {precision}\\n Our F1 was {f1}')\n",
    "from sklearn.metrics import recall_score, accuracy_score, precision_score, f1_score\n",
    "\n",
    "def accuracy_report(predict, truth=y_test, df=X_test):\n",
    "    # Calculate overall metrics\n",
    "    # df = df.copy().reset_index(drop=True)\n",
    "    recall = recall_score(truth, predict, average='macro')\n",
    "    mean_accuracy = accuracy_score(truth, predict)\n",
    "    precision = precision_score(truth, predict, average='macro')\n",
    "    f1 = f1_score(truth, predict, average='macro')\n",
    "\n",
    "    print(f'Overall:')\n",
    "    print(f'Recall: {recall}\\nAccuracy: {mean_accuracy}\\nPrecision: {precision}\\nF1-score: {f1}')\n",
    "\n",
    "    # Define subgroups\n",
    "    subgroups = {\n",
    "        'Male': df['applicant_sex'] == 1,\n",
    "        'Female': df['applicant_sex'] == 2,\n",
    "        'White': df['applicant_race_1'] == 5,\n",
    "        'Non-White': df['applicant_race_1'] != 5\n",
    "    }\n",
    "\n",
    "    # Calculate metrics for subgroups\n",
    "    for subgroup_name, subgroup_mask in subgroups.items():\n",
    "        truth_subgroup = truth[subgroup_mask]\n",
    "        predict_subgroup = predict[subgroup_mask]\n",
    "\n",
    "        recall = recall_score(truth_subgroup, predict_subgroup, average='macro')\n",
    "        mean_accuracy = accuracy_score(truth_subgroup, predict_subgroup)\n",
    "        precision = precision_score(truth_subgroup, predict_subgroup, average='macro')\n",
    "        f1 = f1_score(truth_subgroup, predict_subgroup, average='macro')\n",
    "\n",
    "        print(f'{subgroup_name}:')\n",
    "        print(f'Recall: {recall}\\nAccuracy: {mean_accuracy}\\nPrecision: {precision}\\nF1-score: {f1}')"
   ]
  },
  {
   "cell_type": "markdown",
   "id": "d4cb17fb",
   "metadata": {},
   "source": [
    "#### Analysis 1"
   ]
  },
  {
   "cell_type": "code",
   "execution_count": 167,
   "id": "db261d42",
   "metadata": {},
   "outputs": [],
   "source": [
    "lg_clf = LogisticRegression(max_iter = 10000).fit(X_train[feats], y_train)\n",
    "\n",
    "# for restoring\n",
    "# with open('logistic_model.pkl','wb') as f:\n",
    "#     pickle.dump(lg_clf,f)"
   ]
  },
  {
   "cell_type": "code",
   "execution_count": 5,
   "id": "a960e22e",
   "metadata": {},
   "outputs": [],
   "source": [
    "# loading\n",
    "with open('logistic_model.pkl', 'rb') as f:\n",
    "  lg_clf = pickle.load(f) "
   ]
  },
  {
   "cell_type": "code",
   "execution_count": 6,
   "id": "7b19abb5",
   "metadata": {},
   "outputs": [
    {
     "name": "stderr",
     "output_type": "stream",
     "text": [
      "/opt/anaconda3/lib/python3.8/site-packages/sklearn/metrics/_classification.py:1245: UndefinedMetricWarning: Precision is ill-defined and being set to 0.0 in labels with no predicted samples. Use `zero_division` parameter to control this behavior.\n",
      "  _warn_prf(average, modifier, msg_start, len(result))\n"
     ]
    },
    {
     "name": "stdout",
     "output_type": "stream",
     "text": [
      "Overall:\n",
      "Recall: 0.12498714548567914\n",
      "Accuracy: 0.5866558660759759\n",
      "Precision: 0.07334076530193855\n",
      "F1-score: 0.09243936333944125\n"
     ]
    },
    {
     "name": "stderr",
     "output_type": "stream",
     "text": [
      "/opt/anaconda3/lib/python3.8/site-packages/sklearn/metrics/_classification.py:1245: UndefinedMetricWarning: Precision is ill-defined and being set to 0.0 in labels with no predicted samples. Use `zero_division` parameter to control this behavior.\n",
      "  _warn_prf(average, modifier, msg_start, len(result))\n"
     ]
    },
    {
     "name": "stdout",
     "output_type": "stream",
     "text": [
      "Male:\n",
      "Recall: 0.12498346858338831\n",
      "Accuracy: 0.592924025884018\n",
      "Precision: 0.07412685969558999\n",
      "F1-score: 0.09306028592317024\n"
     ]
    },
    {
     "name": "stderr",
     "output_type": "stream",
     "text": [
      "/opt/anaconda3/lib/python3.8/site-packages/sklearn/metrics/_classification.py:1245: UndefinedMetricWarning: Precision is ill-defined and being set to 0.0 in labels with no predicted samples. Use `zero_division` parameter to control this behavior.\n",
      "  _warn_prf(average, modifier, msg_start, len(result))\n"
     ]
    },
    {
     "name": "stdout",
     "output_type": "stream",
     "text": [
      "Female:\n",
      "Recall: 0.12499517347779884\n",
      "Accuracy: 0.5734216185930451\n",
      "Precision: 0.07168122167741886\n",
      "F1-score: 0.09111217166247546\n"
     ]
    },
    {
     "name": "stderr",
     "output_type": "stream",
     "text": [
      "/opt/anaconda3/lib/python3.8/site-packages/sklearn/metrics/_classification.py:1245: UndefinedMetricWarning: Precision is ill-defined and being set to 0.0 in labels with no predicted samples. Use `zero_division` parameter to control this behavior.\n",
      "  _warn_prf(average, modifier, msg_start, len(result))\n"
     ]
    },
    {
     "name": "stdout",
     "output_type": "stream",
     "text": [
      "White:\n",
      "Recall: 0.12498627995078528\n",
      "Accuracy: 0.6059015027568332\n",
      "Precision: 0.0757471002254495\n",
      "F1-score: 0.0943275928091912\n",
      "Non-White:\n",
      "Recall: 0.12499065981719928\n",
      "Accuracy: 0.5196402568405286\n",
      "Precision: 0.06496178891670538\n",
      "F1-score: 0.08549104698280584\n"
     ]
    },
    {
     "name": "stderr",
     "output_type": "stream",
     "text": [
      "/opt/anaconda3/lib/python3.8/site-packages/sklearn/metrics/_classification.py:1245: UndefinedMetricWarning: Precision is ill-defined and being set to 0.0 in labels with no predicted samples. Use `zero_division` parameter to control this behavior.\n",
      "  _warn_prf(average, modifier, msg_start, len(result))\n"
     ]
    }
   ],
   "source": [
    "# returning results\n",
    "y_result_lg = lg_clf.predict(X_test[feats])\n",
    "accuracy_report(y_result_lg)\n"
   ]
  },
  {
   "cell_type": "markdown",
   "id": "11990ee5",
   "metadata": {},
   "source": [
    "### Analysis 2"
   ]
  },
  {
   "cell_type": "code",
   "execution_count": 8,
   "id": "409fd83d",
   "metadata": {},
   "outputs": [],
   "source": [
    "from sklearn.neighbors import KNeighborsClassifier"
   ]
  },
  {
   "cell_type": "code",
   "execution_count": 8,
   "id": "43eea5bf",
   "metadata": {},
   "outputs": [
    {
     "data": {
      "text/plain": [
       "KNeighborsClassifier(n_neighbors=3)"
      ]
     },
     "execution_count": 8,
     "metadata": {},
     "output_type": "execute_result"
    }
   ],
   "source": [
    "#Analysis 2\n",
    "feats = ['loan_amount_000s','applicant_income_000s', 'county_code']\n",
    "neigh = KNeighborsClassifier(n_neighbors=3)\n",
    "neigh.fit(X_train[feats], y_train)\n"
   ]
  },
  {
   "cell_type": "code",
   "execution_count": 9,
   "id": "da179d4c",
   "metadata": {},
   "outputs": [
    {
     "name": "stderr",
     "output_type": "stream",
     "text": [
      "/opt/anaconda3/lib/python3.8/site-packages/sklearn/metrics/_classification.py:1245: UndefinedMetricWarning: Precision is ill-defined and being set to 0.0 in labels with no predicted samples. Use `zero_division` parameter to control this behavior.\n",
      "  _warn_prf(average, modifier, msg_start, len(result))\n"
     ]
    },
    {
     "name": "stdout",
     "output_type": "stream",
     "text": [
      "Overall:\n",
      "Recall: 0.1376210903153654\n",
      "Accuracy: 0.5274666282168938\n",
      "Precision: 0.14703879760064487\n",
      "F1-score: 0.13053373424447265\n"
     ]
    },
    {
     "name": "stderr",
     "output_type": "stream",
     "text": [
      "/opt/anaconda3/lib/python3.8/site-packages/sklearn/metrics/_classification.py:1245: UndefinedMetricWarning: Precision is ill-defined and being set to 0.0 in labels with no predicted samples. Use `zero_division` parameter to control this behavior.\n",
      "  _warn_prf(average, modifier, msg_start, len(result))\n"
     ]
    },
    {
     "name": "stdout",
     "output_type": "stream",
     "text": [
      "Male:\n",
      "Recall: 0.13618800296324562\n",
      "Accuracy: 0.5321439123678624\n",
      "Precision: 0.14543668528468154\n",
      "F1-score: 0.12888782338510388\n"
     ]
    },
    {
     "name": "stderr",
     "output_type": "stream",
     "text": [
      "/opt/anaconda3/lib/python3.8/site-packages/sklearn/metrics/_classification.py:1245: UndefinedMetricWarning: Precision is ill-defined and being set to 0.0 in labels with no predicted samples. Use `zero_division` parameter to control this behavior.\n",
      "  _warn_prf(average, modifier, msg_start, len(result))\n"
     ]
    },
    {
     "name": "stdout",
     "output_type": "stream",
     "text": [
      "Female:\n",
      "Recall: 0.13987839215495937\n",
      "Accuracy: 0.5175912679999307\n",
      "Precision: 0.14911400241533626\n",
      "F1-score: 0.13300903716865045\n"
     ]
    },
    {
     "name": "stderr",
     "output_type": "stream",
     "text": [
      "/opt/anaconda3/lib/python3.8/site-packages/sklearn/metrics/_classification.py:1245: UndefinedMetricWarning: Precision is ill-defined and being set to 0.0 in labels with no predicted samples. Use `zero_division` parameter to control this behavior.\n",
      "  _warn_prf(average, modifier, msg_start, len(result))\n"
     ]
    },
    {
     "name": "stdout",
     "output_type": "stream",
     "text": [
      "White:\n",
      "Recall: 0.1368556467139751\n",
      "Accuracy: 0.5406212711860356\n",
      "Precision: 0.14443356011414205\n",
      "F1-score: 0.13021507501102425\n",
      "Non-White:\n",
      "Recall: 0.13938779430943496\n",
      "Accuracy: 0.4816605877376676\n",
      "Precision: 0.15402899927384625\n",
      "F1-score: 0.12972512381743398\n"
     ]
    },
    {
     "name": "stderr",
     "output_type": "stream",
     "text": [
      "/opt/anaconda3/lib/python3.8/site-packages/sklearn/metrics/_classification.py:1245: UndefinedMetricWarning: Precision is ill-defined and being set to 0.0 in labels with no predicted samples. Use `zero_division` parameter to control this behavior.\n",
      "  _warn_prf(average, modifier, msg_start, len(result))\n"
     ]
    }
   ],
   "source": [
    "# returning results\n",
    "y_result_neigh = neigh.predict(X_test[feats])\n",
    "accuracy_report(y_result_neigh)\n"
   ]
  },
  {
   "cell_type": "markdown",
   "id": "5ca29fbf",
   "metadata": {},
   "source": [
    "#### Analysis 3"
   ]
  },
  {
   "cell_type": "code",
   "execution_count": 14,
   "id": "7579a9cd",
   "metadata": {},
   "outputs": [],
   "source": [
    "from sklearn.ensemble import RandomForestClassifier"
   ]
  },
  {
   "cell_type": "code",
   "execution_count": 11,
   "id": "abe6f9e3",
   "metadata": {},
   "outputs": [
    {
     "data": {
      "text/plain": [
       "RandomForestClassifier(n_jobs=-1)"
      ]
     },
     "execution_count": 11,
     "metadata": {},
     "output_type": "execute_result"
    }
   ],
   "source": [
    "#Analysis 3\n",
    "feats = ['loan_amount_000s','applicant_income_000s', 'county_code','applicant_sex', 'applicant_race_1']\n",
    "clf_rf = RandomForestClassifier(n_estimators = 100, n_jobs = -1)\n",
    "clf_rf.fit(X_train[feats], y_train)\n",
    "\n",
    "# with open('rf_model.pkl','rb') as f:\n",
    "#     pickle.load(clf_rf,f)"
   ]
  },
  {
   "cell_type": "code",
   "execution_count": 12,
   "id": "65131b65",
   "metadata": {},
   "outputs": [
    {
     "name": "stdout",
     "output_type": "stream",
     "text": [
      "Overall:\n",
      "Recall: 0.14071582088615378\n",
      "Accuracy: 0.48638611946699206\n",
      "Precision: 0.1482835100805053\n",
      "F1-score: 0.1398051054431922\n",
      "Male:\n",
      "Recall: 0.1389298028859844\n",
      "Accuracy: 0.4899337396861526\n",
      "Precision: 0.14625323365206877\n",
      "F1-score: 0.13787967766641324\n",
      "Female:\n",
      "Recall: 0.1435802789483583\n",
      "Accuracy: 0.4788958694743895\n",
      "Precision: 0.15136463573782\n",
      "F1-score: 0.14279605380415072\n",
      "White:\n",
      "Recall: 0.13639833964764497\n",
      "Accuracy: 0.4975645717071337\n",
      "Precision: 0.1426267424455822\n",
      "F1-score: 0.13521044676233898\n",
      "Non-White:\n",
      "Recall: 0.1498755493219125\n",
      "Accuracy: 0.4474614115134453\n",
      "Precision: 0.16064538494342054\n",
      "F1-score: 0.14894038707064147\n"
     ]
    }
   ],
   "source": [
    "y_result_rf = clf_rf.predict(X_test[feats])\n",
    "accuracy_report(y_result_rf)"
   ]
  },
  {
   "cell_type": "markdown",
   "id": "0d8b029c",
   "metadata": {},
   "source": [
    "### Analysis 4"
   ]
  },
  {
   "cell_type": "code",
   "execution_count": 5,
   "id": "692b4e11",
   "metadata": {},
   "outputs": [],
   "source": [
    "#Analysis 4 (downsampling dataset)\n",
    "from sklearn.utils import resample\n",
    "# Separate the dataframes by race\n",
    "df_white = df_cleaned[df_cleaned['applicant_race_1'] == 5]\n",
    "df_non_white = df_cleaned[df_cleaned['applicant_race_1'] != 5]\n",
    "# Separate the dataframes by gender and loan approval status\n",
    "df_male_approved = df_cleaned[(df_cleaned['applicant_sex'] == 1) & (df_cleaned['action_taken'] == 1)]\n",
    "df_male_denied = df_cleaned[(df_cleaned['applicant_sex'] == 1) & (df_cleaned['action_taken'].isin([3, 5, 7]))]\n",
    "df_female_approved = df_cleaned[(df_cleaned['applicant_sex'] == 2) & (df_cleaned['action_taken'] == 1)]\n",
    "df_female_denied = df_cleaned[(df_cleaned['applicant_sex'] == 2) & (df_cleaned['action_taken'].isin([3, 5, 7]))]\n",
    "# Undersample the majority class for race\n",
    "df_white_downsampled = resample(df_white, replace=False, n_samples=len(df_non_white))\n",
    "balanced_race_df = pd.concat([df_white_downsampled, df_non_white])\n",
    "# Undersample the majority class for gender and loan approval status\n",
    "if len(df_male_approved) > len(df_female_approved):\n",
    "    df_male_approved_downsampled = resample(df_male_approved, replace=False, n_samples=len(df_female_approved))\n",
    "    balanced_approved_df = pd.concat([df_male_approved_downsampled, df_female_approved])\n",
    "else:\n",
    "    df_female_approved_downsampled = resample(df_female_approved, replace=False, n_samples=len(df_male_approved))\n",
    "    balanced_approved_df = pd.concat([df_male_approved, df_female_approved_downsampled])\n",
    "\n",
    "if len(df_male_denied) > len(df_female_denied):\n",
    "    df_male_denied_downsampled = resample(df_male_denied, replace=False, n_samples=len(df_female_denied))\n",
    "    balanced_denied_df = pd.concat([df_male_denied_downsampled, df_female_denied])\n",
    "else:\n",
    "    df_female_denied_downsampled = resample(df_female_denied, replace=False, n_samples=len(df_male_denied))\n",
    "    balanced_denied_df = pd.concat([df_male_denied, df_female_denied_downsampled])\n",
    "\n",
    "# Combine the balanced dataframes\n",
    "balanced_df = pd.concat([balanced_race_df, balanced_approved_df, balanced_denied_df])\n",
    "\n",
    "# Create X and y for the balanced dataset\n",
    "Xs_b = balanced_df[['loan_amount_000s', 'applicant_income_000s', 'applicant_sex', 'applicant_race_1']]\n",
    "Ys_b = balanced_df['action_taken']"
   ]
  },
  {
   "cell_type": "code",
   "execution_count": 6,
   "id": "0d94f886",
   "metadata": {},
   "outputs": [],
   "source": [
    "X_train_b, _, y_train_b, _ = train_test_split(Xs_b, Ys_b, test_size=0.33)"
   ]
  },
  {
   "cell_type": "code",
   "execution_count": 9,
   "id": "02f960c7",
   "metadata": {},
   "outputs": [
    {
     "data": {
      "text/plain": [
       "KNeighborsClassifier(n_neighbors=3)"
      ]
     },
     "execution_count": 9,
     "metadata": {},
     "output_type": "execute_result"
    }
   ],
   "source": [
    "neigh_b = KNeighborsClassifier(n_neighbors=3)\n",
    "neigh_b.fit(X_train_b[feats], y_train_b)"
   ]
  },
  {
   "cell_type": "code",
   "execution_count": 12,
   "id": "2bb81712",
   "metadata": {},
   "outputs": [
    {
     "name": "stderr",
     "output_type": "stream",
     "text": [
      "/opt/anaconda3/lib/python3.8/site-packages/sklearn/metrics/_classification.py:1245: UndefinedMetricWarning: Precision is ill-defined and being set to 0.0 in labels with no predicted samples. Use `zero_division` parameter to control this behavior.\n",
      "  _warn_prf(average, modifier, msg_start, len(result))\n"
     ]
    },
    {
     "name": "stdout",
     "output_type": "stream",
     "text": [
      "Overall:\n",
      "Recall: 0.1460517034704557\n",
      "Accuracy: 0.5523669816288883\n",
      "Precision: 0.1983975316918133\n",
      "F1-score: 0.13535335218444228\n"
     ]
    },
    {
     "name": "stderr",
     "output_type": "stream",
     "text": [
      "/opt/anaconda3/lib/python3.8/site-packages/sklearn/metrics/_classification.py:1245: UndefinedMetricWarning: Precision is ill-defined and being set to 0.0 in labels with no predicted samples. Use `zero_division` parameter to control this behavior.\n",
      "  _warn_prf(average, modifier, msg_start, len(result))\n"
     ]
    },
    {
     "name": "stdout",
     "output_type": "stream",
     "text": [
      "Male:\n",
      "Recall: 0.14367244159447054\n",
      "Accuracy: 0.556880565295591\n",
      "Precision: 0.17322366051515745\n",
      "F1-score: 0.13219605660873157\n"
     ]
    },
    {
     "name": "stderr",
     "output_type": "stream",
     "text": [
      "/opt/anaconda3/lib/python3.8/site-packages/sklearn/metrics/_classification.py:1245: UndefinedMetricWarning: Precision is ill-defined and being set to 0.0 in labels with no predicted samples. Use `zero_division` parameter to control this behavior.\n",
      "  _warn_prf(average, modifier, msg_start, len(result))\n"
     ]
    },
    {
     "name": "stdout",
     "output_type": "stream",
     "text": [
      "Female:\n",
      "Recall: 0.14981967284441117\n",
      "Accuracy: 0.5428493930186322\n",
      "Precision: 0.2140595910945999\n",
      "F1-score: 0.1402237962359402\n"
     ]
    },
    {
     "name": "stderr",
     "output_type": "stream",
     "text": [
      "/opt/anaconda3/lib/python3.8/site-packages/sklearn/metrics/_classification.py:1245: UndefinedMetricWarning: Precision is ill-defined and being set to 0.0 in labels with no predicted samples. Use `zero_division` parameter to control this behavior.\n",
      "  _warn_prf(average, modifier, msg_start, len(result))\n"
     ]
    },
    {
     "name": "stdout",
     "output_type": "stream",
     "text": [
      "White:\n",
      "Recall: 0.14266213345926482\n",
      "Accuracy: 0.5635595954863891\n",
      "Precision: 0.16235735680403296\n",
      "F1-score: 0.13066497398899007\n",
      "Non-White:\n",
      "Recall: 0.15432880431567197\n",
      "Accuracy: 0.5134331419196062\n",
      "Precision: 0.24951889256493837\n",
      "F1-score: 0.1452149384922806\n"
     ]
    },
    {
     "name": "stderr",
     "output_type": "stream",
     "text": [
      "/opt/anaconda3/lib/python3.8/site-packages/sklearn/metrics/_classification.py:1245: UndefinedMetricWarning: Precision is ill-defined and being set to 0.0 in labels with no predicted samples. Use `zero_division` parameter to control this behavior.\n",
      "  _warn_prf(average, modifier, msg_start, len(result))\n"
     ]
    }
   ],
   "source": [
    "y_result_neigh_b = neigh_b.predict(X_test[feats])\n",
    "accuracy_report(y_result_neigh_b)"
   ]
  },
  {
   "cell_type": "markdown",
   "id": "1fbce5ec",
   "metadata": {},
   "source": [
    "### Analysis 5"
   ]
  },
  {
   "cell_type": "code",
   "execution_count": 15,
   "id": "ce84977b",
   "metadata": {},
   "outputs": [
    {
     "data": {
      "text/plain": [
       "RandomForestClassifier(n_jobs=-1)"
      ]
     },
     "execution_count": 15,
     "metadata": {},
     "output_type": "execute_result"
    }
   ],
   "source": [
    "clf_rf_b = RandomForestClassifier(n_estimators = 100, n_jobs = -1)\n",
    "clf_rf_b.fit(X_train_b[feats], y_train_b)"
   ]
  },
  {
   "cell_type": "code",
   "execution_count": 16,
   "id": "16e694e0",
   "metadata": {},
   "outputs": [
    {
     "name": "stderr",
     "output_type": "stream",
     "text": [
      "/opt/anaconda3/lib/python3.8/site-packages/sklearn/metrics/_classification.py:1245: UndefinedMetricWarning: Precision is ill-defined and being set to 0.0 in labels with no predicted samples. Use `zero_division` parameter to control this behavior.\n",
      "  _warn_prf(average, modifier, msg_start, len(result))\n"
     ]
    },
    {
     "name": "stdout",
     "output_type": "stream",
     "text": [
      "Overall:\n",
      "Recall: 0.1531900286986621\n",
      "Accuracy: 0.5968321636475138\n",
      "Precision: 0.39938648134870736\n",
      "F1-score: 0.14512086946791591\n"
     ]
    },
    {
     "name": "stderr",
     "output_type": "stream",
     "text": [
      "/opt/anaconda3/lib/python3.8/site-packages/sklearn/metrics/_classification.py:1245: UndefinedMetricWarning: Precision is ill-defined and being set to 0.0 in labels with no predicted samples. Use `zero_division` parameter to control this behavior.\n",
      "  _warn_prf(average, modifier, msg_start, len(result))\n"
     ]
    },
    {
     "name": "stdout",
     "output_type": "stream",
     "text": [
      "Male:\n",
      "Recall: 0.15077164525272438\n",
      "Accuracy: 0.6001594694811632\n",
      "Precision: 0.3845363244579927\n",
      "F1-score: 0.1422059719757719\n"
     ]
    },
    {
     "name": "stderr",
     "output_type": "stream",
     "text": [
      "/opt/anaconda3/lib/python3.8/site-packages/sklearn/metrics/_classification.py:1245: UndefinedMetricWarning: Precision is ill-defined and being set to 0.0 in labels with no predicted samples. Use `zero_division` parameter to control this behavior.\n",
      "  _warn_prf(average, modifier, msg_start, len(result))\n"
     ]
    },
    {
     "name": "stdout",
     "output_type": "stream",
     "text": [
      "Female:\n",
      "Recall: 0.15688881527815896\n",
      "Accuracy: 0.5898160251545468\n",
      "Precision: 0.43484437421150907\n",
      "F1-score: 0.14858885651299886\n"
     ]
    },
    {
     "name": "stderr",
     "output_type": "stream",
     "text": [
      "/opt/anaconda3/lib/python3.8/site-packages/sklearn/metrics/_classification.py:1245: UndefinedMetricWarning: Precision is ill-defined and being set to 0.0 in labels with no predicted samples. Use `zero_division` parameter to control this behavior.\n",
      "  _warn_prf(average, modifier, msg_start, len(result))\n"
     ]
    },
    {
     "name": "stdout",
     "output_type": "stream",
     "text": [
      "White:\n",
      "Recall: 0.14864610080716723\n",
      "Accuracy: 0.6104413303089623\n",
      "Precision: 0.3306212076787598\n",
      "F1-score: 0.1384745248808466\n",
      "Non-White:\n",
      "Recall: 0.16444572750698527\n",
      "Accuracy: 0.5494922732412478\n",
      "Precision: 0.5532990328507523\n",
      "F1-score: 0.1598029297497186\n"
     ]
    },
    {
     "name": "stderr",
     "output_type": "stream",
     "text": [
      "/opt/anaconda3/lib/python3.8/site-packages/sklearn/metrics/_classification.py:1245: UndefinedMetricWarning: Precision is ill-defined and being set to 0.0 in labels with no predicted samples. Use `zero_division` parameter to control this behavior.\n",
      "  _warn_prf(average, modifier, msg_start, len(result))\n"
     ]
    }
   ],
   "source": [
    "y_result_rf_b = clf_rf_b.predict(X_test[feats])\n",
    "accuracy_report(y_result_rf_b)"
   ]
  },
  {
   "cell_type": "markdown",
   "id": "c3a86112",
   "metadata": {},
   "source": [
    "#### Plots"
   ]
  },
  {
   "cell_type": "code",
   "execution_count": 18,
   "id": "e481b13e",
   "metadata": {},
   "outputs": [],
   "source": [
    "malerecall = {}\n",
    "femalerecall = {}\n",
    "labels = ['logistic', 'knn', 'randomforest', 'knnbalanced', 'forestbalanced']\n",
    "modeloutputs = [y_result_lg, y_result_neigh, y_result_rf, y_result_neigh_b, y_result_rf_b]\n",
    "for val in range(len(modeloutputs)):\n",
    "  tempmalemask = modeloutputs[val]['applicant_sex'] == 1\n",
    "  tempfemalemask = modeloutputs[val]['applicant_sex'] == 2\n",
    "  tempmaletruth = y_test[tempmalemask]\n",
    "  tempfemaletruth = y_test[tempfemalemask]\n",
    "  tempmalepredict = modeloutputs[val][tempmalemask]\n",
    "  tempfemalepredict = modeloutputs[val][tempfemalemask]\n",
    "\n",
    "  malerecall[labels[val]] = recall_score(tempmaletruth, tempmalepredict, average = 'macro')\n",
    "  femalerecall[labels[val]] = recall_score(tempfemaletruth, tempfemalepredict, average = 'macro')"
   ]
  },
  {
   "cell_type": "code",
   "execution_count": 33,
   "id": "d891e9d4",
   "metadata": {},
   "outputs": [
    {
     "data": {
      "image/png": "[encoded data removed]",
      "text/plain": [
       "<Figure size 720x432 with 1 Axes>"
      ]
     },
     "metadata": {
      "needs_background": "light"
     },
     "output_type": "display_data"
    }
   ],
   "source": [
    "X = malerecall.keys()\n",
    "  \n",
    "X_axis = np.arange(len(X)) \n",
    "plt.figure(figsize=(10,6))\n",
    "plt.bar(X_axis - 0.2, malerecall.values() , 0.4, label = 'Men') \n",
    "plt.bar(X_axis + 0.2, femalerecall.values(), 0.4, label = 'Women') \n",
    "  \n",
    "plt.xticks(X_axis, X) \n",
    "plt.xlabel(\"Models\") \n",
    "plt.ylabel(\"Recall\") \n",
    "plt.title(\"Recall in each group\") \n",
    "\n",
    "plt.legend() \n",
    "plt.show() "
   ]
  },
  {
   "cell_type": "markdown",
   "id": "11f43405",
   "metadata": {},
   "source": [
    "## Step 5 Results Analysis"
   ]
  },
  {
   "cell_type": "markdown",
   "id": "18f9ac5e",
   "metadata": {},
   "source": [
    "### Analysis 1"
   ]
  },
  {
   "cell_type": "markdown",
   "id": "7396d0f8",
   "metadata": {},
   "source": [
    "Overall Performance:\n",
    "Recall (0.125): Indicates that the model we built correctly identifies 12.5% of the positive cases (loan approvals). This is quite low, suggesting that many eligible loan applications might be missed by the model.\n",
    "Accuracy (0.587): About 58.7% of the predictions (both approvals and rejections) made by the model are correct. While better than random guessing, this still leaves considerable room for improvement.\n",
    "Precision (0.073): Very low precision indicates that, of the loans predicted to be approved, only 7.3% actually were approved. This suggests a high rate of false positives.\n",
    "F1-score (0.092): The F1-score, which balances precision and recall, is also low, indicating poor model performance overall.\n",
    "The UndefinedMetricWarning warns us that precision is ill-defined for certain labels, suggesting that the model might never predict those labels, leading to a division by zero in calculating precision.\n",
    "\n",
    "Performance by Gender:\n",
    "The performance metrics for male and female groups are very similar to the overall metrics, indicating consistent performance across genders but still showing the same issues of low recall, precision, and F1-score.\n",
    "\n",
    "Performance by Race:\n",
    "Performance metrics by race (white vs. non-white) also show similar trends. However, the model performs slightly better for the white group in terms of accuracy and precision, suggesting a potential bias in model predictions towards the white group.\n",
    "\n",
    "Hypothese\n",
    "The model performed slightly better for the white group, probably because the skew in our data towards a large amount of white people. This skew may be due to the makeup of the United States, which is majority white.\n"
   ]
  },
  {
   "cell_type": "markdown",
   "id": "4335d86f",
   "metadata": {},
   "source": [
    "### Analysis 2"
   ]
  },
  {
   "cell_type": "markdown",
   "id": "97c714b1",
   "metadata": {},
   "source": [
    "Overall:\n",
    "Recall(0.138): The model's recall rates are low across all demographic groups, indicating that it misses a significant number of true positive cases. This could be particularly concerning in contexts where failing to identify positive cases has adverse implications.\n",
    "Accuracy(0.527): The model's accuracy is below 55% across all groups, indicating that more than half of the predictions could be incorrect. This level of accuracy is generally considered insufficient for reliable decision-making.\n",
    "Precision(0.147) and F1-Score(0.131): Both precision and F1-scores are low, further indicating the model's challenges in making accurate and reliable predictions.\n",
    "\n",
    "Performance by Gender:\n",
    "The score of recall, accuracy,precision, and F-1 score of female are all higher than male, indicating the model perform better on female data than on male's data.\n",
    "\n",
    "Performance by Race:\n",
    "The recall rate and precision score for Non-White individuals are higher than White individuals, indicating the model is slightly better at identifying actual positive cases,and when the model predicts a positive case in the group, it's more likely to be correct than for White "
   ]
  },
  {
   "cell_type": "markdown",
   "id": "68ac629f",
   "metadata": {},
   "source": [
    "### Analysis 3"
   ]
  },
  {
   "cell_type": "markdown",
   "id": "0634b896",
   "metadata": {},
   "source": [
    "Overall Performance:\n",
    "The model's overall performance metrics suggest that it struggles significantly with both accurately identifying true positive cases (low recall) and ensuring that its positive predictions are actually positive (low precision).\n",
    "The accuracy being below 50% is particularly concerning, as it indicates the model's predictions are often incorrect more than they are correct. \n",
    "The similar low levels of precision and recall, as represented by the F1-score, indicate the model does not effectively balance these aspects.\n",
    "\n",
    "Performance by Gender:\n",
    "Recall: Females have a higher recall rate (14.36%) compared to males (13.89%). This indicates that the model is slightly better at identifying true positive cases among females than males.\n",
    "Accuracy: Males have a slightly higher accuracy (48.99%) than females (47.89%), indicating that the model is marginally better at correctly predicting outcomes for males.\n",
    "Precision: Females have higher precision (15.14%) compared to males (14.63%), suggesting that when the model predicts a positive outcome for females, it is slightly more likely to be correct.\n",
    "F1-score: Females have a higher F1-score (14.28%) compared to males (13.79%), indicating a better balance between precision and recall for females.\n",
    "\n",
    "Performance by Race:\n",
    "Non-white individuals have a higher recall rate (14.99%),precision (16.06%),and F1-score (14.89%) compared to white individuals. This suggests that the model is better at identifying true positive cases,\n",
    "have a more accurate predition, and a better balance between recall and precision rate.\n",
    "Accuracy: White individuals have higher accuracy (49.76%) than non-white individuals (44.75%), indicating the model is more accurate at predicting outcomes for white individuals.\n"
   ]
  },
  {
   "cell_type": "markdown",
   "id": "ad96c54b",
   "metadata": {},
   "source": [
    "## Analysis 4"
   ]
  },
  {
   "cell_type": "markdown",
   "id": "34b4035e",
   "metadata": {},
   "source": [
    "Overall Performance:\n",
    "Recall (14.61%): This suggests that the model correctly identifies a relatively small fraction of all positive cases.\n",
    "Accuracy (55.24%): Indicates that the model correctly predicts a little over half of the outcomes, which is moderately better than random guessing but still indicates significant room for improvement.\n",
    "Precision (19.84%): A relatively low precision indicates that many of the positive predictions made by the model are incorrect.\n",
    "F1-score (13.54%): The low F1-score suggests the model struggles to balance precision and recall effectively.\n",
    "\n",
    "    \n",
    "Performance by Gender:\n",
    "Females have slightly higher recall and precision than males, which suggests that the model is somewhat better at identifying true positives and making correct positive predictions for female cases.\n",
    "Females have a higher F1-score, indicating a slightly better balance between precision and recall compared to males.\n",
    "Accuracy is higher for males, suggesting the model is marginally better at correctly predicting outcomes for male cases.\n",
    "\n",
    "Performance by Race:\n",
    "Non-white individuals have higher recall, precision, and F1-score than white individuals, indicating the model is more effective at identifying true positives and making correct positive predictions for non-white cases.\n",
    "And it has a better balance between precision and recall for this group.\n",
    "Accuracy is higher for white individuals, suggesting the model is more accurate in predicting outcomes for white cases, despite lower recall and precision."
   ]
  },
  {
   "cell_type": "markdown",
   "id": "345a3d18",
   "metadata": {},
   "source": [
    "### Analysis 5"
   ]
  },
  {
   "cell_type": "markdown",
   "id": "e1763ebc",
   "metadata": {},
   "source": [
    "Overall Performance:\n",
    "Recall (0.153): A recall of about 15% is quite low, meaning the model misses a lot of positive cases it should have caught.\n",
    "Accuracy (0.597): An accuracy of roughly 60% indicates the model is correct a bit more than half the time, which leaves a considerable margin for improvement.\n",
    "Precision (0.399): With a precision under 40%, it suggests a lot of false alarms—cases the model thought were positive but weren't.\n",
    "F1-score (0.145): A score of around 14.5% is low, signaling that the model struggles to find a good balance between catching as many true positives as possible and minimizing false positives.\n",
    "\n",
    "Performane by Gender:\n",
    "Females have a marginally higher recall, precision, and F1-score, suggesting the model is slightly better at identifying and correctly predicting positive cases for females than for males. However, the model is a bit more accurate overall for males. These differences indicate that while the model's effectiveness varies slightly between genders, the variation is not substantial.\n",
    "\n",
    "Performance by Race:\n",
    "Non-white subjects have higher recall and precision, meaning the model is better at identifying relevant cases and making correct predictions for this group. However, the model has higher overall accuracy for white subjects. The greater precision and F1-score for non-white subjects suggest the model is more effective for this demographic, despite its higher accuracy for white subjects."
   ]
  },
  {
   "cell_type": "markdown",
   "id": "3fcc40ac",
   "metadata": {},
   "source": [
    "## Model Comparison"
   ]
  },
  {
   "cell_type": "markdown",
   "id": "4c6555b5",
   "metadata": {},
   "source": [
    "Performance Increase: Both the KNN and Random Forest models show improvement after we adjust the input features in their second iterations, indicating that adjustments or optimizations were made.\n",
    "Highest Accuracy & Precision: The second Random Forest model (Analysis 5) stands out with the highest accuracy and precision, making it the most reliable model for correctly predicting positive cases and ensuring those predictions are accurate.\n",
    "Recall and F1-score: While the Random Forest models (especially the second iteration) also show improvements in recall and F1-score, these metrics are still relatively low across all models, suggesting our ongoing challenge in correctly identifying all positive cases and balancing precision and recall."
   ]
  },
  {
   "cell_type": "markdown",
   "id": "8e1d8e53",
   "metadata": {},
   "source": [
    "### Contribution"
   ]
  },
  {
   "cell_type": "markdown",
   "id": "f276c1e1",
   "metadata": {},
   "source": [
    "\n",
    "Linlin Li: Responsible for the result analysis and model comparison\n",
    "\n",
    "Xinwen (Cindy) Wang: Responsible for the summary statistics part\n",
    "\n",
    "Emily Wang: Responsible for data cleaning and model creation / statistics\n",
    "\n",
    "Atulya Lohani: Responsible for leading this phase of the project and model creation / statistics\n",
    "\n",
    "Ciara Malamug: Responsible for the research question, hypotheses, and analysis plan"
   ]
  },
  {
   "cell_type": "markdown",
   "id": "c541f5b5-b786-44bc-8f6b-910ed45f6b93",
   "metadata": {},
   "source": [
    "### Sources Cited"
   ]
  },
  {
   "cell_type": "markdown",
   "id": "5057e30c-0ab9-4c64-abfc-c57831e0baa9",
   "metadata": {},
   "source": [
    "[1] Consumer Financial Protection Bureau. HMDA Data. Retrieved from https://www.consumerfinance.gov/data-research/hmda/historic-data/?geo=nationwide&records=all-records&field_descriptions=codes. \n",
    "\n",
    "[2] Consumer Financial Protection Bureau. HMDA Loan/Application Register Code Sheet. Retrieved from https://files.consumerfinance.gov/hmda-historic-data-dictionaries/lar_record_codes.pdf.\n",
    "\n",
    "[3] Investopedia. 5 Steps to Scoring a Mortgage. Article. Retrieved from https://www.investopedia.com/articles/mortgages-real-estate/08/mortgage-candidate.asp"
   ]
  }
 ],
 "metadata": {
  "kernelspec": {
   "display_name": "Python 3 (ipykernel)",
   "language": "python",
   "name": "python3"
  },
  "language_info": {
   "codemirror_mode": {
    "name": "ipython",
    "version": 3
   },
   "file_extension": ".py",
   "mimetype": "text/x-python",
   "name": "python",
   "nbconvert_exporter": "python",
   "pygments_lexer": "ipython3",
   "version": "3.9.13"
  }
 },
 "nbformat": 4,
 "nbformat_minor": 5
}
